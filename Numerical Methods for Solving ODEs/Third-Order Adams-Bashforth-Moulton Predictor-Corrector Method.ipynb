{
 "cells": [
  {
   "cell_type": "code",
   "execution_count": 103,
   "metadata": {},
   "outputs": [],
   "source": [
    "import numpy as np"
   ]
  },
  {
   "cell_type": "code",
   "execution_count": 104,
   "metadata": {},
   "outputs": [],
   "source": [
    "def f(t, x):\n",
    "    return np.square(x) + np.square(t)"
   ]
  },
  {
   "cell_type": "code",
   "execution_count": 105,
   "metadata": {},
   "outputs": [],
   "source": [
    "x = 0.1\n",
    "t = 0.3\n",
    "t_target = 0.5\n",
    "h = 0.05\n",
    "X = [x]\n",
    "X_hat = []"
   ]
  },
  {
   "cell_type": "markdown",
   "metadata": {},
   "source": [
    "The forth-order Runge-Kutta method is self-starting, therefore it is used here to obtain the value for $X_1$ that needed to start the third-order Adams-Bashforth-Moulton predictor-corrector method.\n",
    "\n",
    "$$c_1 = hf(t_n, X_n)$$\n",
    "\n",
    "$$c_2 = hf(t_n + \\frac{1}{2}h, X_n + \\frac{1}{2}c_1)$$\n",
    "\n",
    "$$c_3 = hf(t_n + \\frac{1}{2}h, X_n + \\frac{1}{2}c_2)$$\n",
    "\n",
    "$$c_4 = hf(t_n + h, X_n + c_3)$$\n",
    "\n",
    "$$X_{n+1} = X_n + \\frac{1}{6}(c_1 + 2c_2 + 2c_3 + c_4)$$"
   ]
  },
  {
   "cell_type": "code",
   "execution_count": 106,
   "metadata": {},
   "outputs": [],
   "source": [
    "# The third-order adams-bashforth-moulton predictor-corrector method is not self-starting, \n",
    "# therefore we will use the forth-order Runge-Kutta method to take the inital step needed.\n",
    "\n",
    "c1 = h*f(t, X[0])\n",
    "c2 = h*f(t+1/2*h, X[0]+1/2*c1)\n",
    "c3 = h*f(t+1/2*h, X[0]+1/2*c2)\n",
    "c4 = h*f(t+h, X[0]+c3)\n",
    "X.append(X[0] + 1/6*(c1 + 2*c2 + 2*c3 + c4))"
   ]
  },
  {
   "cell_type": "code",
   "execution_count": 107,
   "metadata": {},
   "outputs": [],
   "source": [
    "for i in range(1, int(t_target/h)-int(t/h)-1):\n",
    "    X_hat.append(X[i] + 1/2*h*(3*f(t+i*h, X[i]) - f(t+(i-1)*h, X[i-1])))\n",
    "    X.append(X[i] + 1/12*h*(5*f(t+(i+1)*h, X_hat[i-1]) + 8*f(t+i*h, X[i]) - f(t+(i-1)*h, X[i-1])))"
   ]
  },
  {
   "cell_type": "code",
   "execution_count": 108,
   "metadata": {},
   "outputs": [
    {
     "name": "stdout",
     "output_type": "stream",
     "text": [
      "Therefore x(0.5) ~ X(0.5) = 0.13532535890141673\n"
     ]
    }
   ],
   "source": [
    "print(f'Therefore x({t_target}) ~ X({t_target}) = {X[int(t_target/h)-int(t/h)-1]}')"
   ]
  }
 ],
 "metadata": {
  "kernelspec": {
   "display_name": "Python 3",
   "language": "python",
   "name": "python3"
  },
  "language_info": {
   "codemirror_mode": {
    "name": "ipython",
    "version": 3
   },
   "file_extension": ".py",
   "mimetype": "text/x-python",
   "name": "python",
   "nbconvert_exporter": "python",
   "pygments_lexer": "ipython3",
   "version": "3.6.5"
  }
 },
 "nbformat": 4,
 "nbformat_minor": 2
}
