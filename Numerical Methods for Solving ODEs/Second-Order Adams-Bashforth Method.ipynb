{
 "cells": [
  {
   "cell_type": "code",
   "execution_count": 57,
   "metadata": {},
   "outputs": [],
   "source": [
    "import numpy as np\n",
    "import math"
   ]
  },
  {
   "cell_type": "code",
   "execution_count": 81,
   "metadata": {},
   "outputs": [],
   "source": [
    "def f(t, x):\n",
    "#     return (np.square(x)*np.sin(t))-x\n",
    "#     return np.square(x)*np.exp(t*x)\n",
    "#     return ((2*t)+x)*np.sin(2*t)\n",
    "    return np.square(x) + t**(3/2)"
   ]
  },
  {
   "cell_type": "code",
   "execution_count": 112,
   "metadata": {},
   "outputs": [],
   "source": [
    "x = -1\n",
    "t = 0\n",
    "t_target = 2\n",
    "h = 0.0025\n",
    "X = [x]"
   ]
  },
  {
   "cell_type": "code",
   "execution_count": 113,
   "metadata": {},
   "outputs": [
    {
     "name": "stdout",
     "output_type": "stream",
     "text": [
      "X1_hat: -0.9975, X1: -0.9975060859375\n"
     ]
    }
   ],
   "source": [
    "# Predictor corrector method\n",
    "X1_hat = X[0] + h*f(t, X[0])\n",
    "X.append(X[0] + 1/2*h*(f(t, X[0]) + f(t+h, X1_hat)))\n",
    "\n",
    "print(f'X1_hat: {X1_hat}, X1: {X[1]}')"
   ]
  },
  {
   "cell_type": "code",
   "execution_count": 114,
   "metadata": {},
   "outputs": [],
   "source": [
    "# Adams-Bashforth method\n",
    "for i in range(1, int(t_target/h)-int(t/h)):\n",
    "    X.append(X[i] + 1/2*h*((3*f(t+(i*h), X[i])) - f(t+((i-1)*h), X[i-1])))"
   ]
  },
  {
   "cell_type": "code",
   "execution_count": 115,
   "metadata": {},
   "outputs": [
    {
     "name": "stdout",
     "output_type": "stream",
     "text": [
      "Therefore x(2) ~ X(2) = 2.8981751044948725\n"
     ]
    }
   ],
   "source": [
    "print(f'Therefore x({t_target}) ~ X({t_target}) = {X[int(t_target/h)-int(t/h)]}')"
   ]
  },
  {
   "cell_type": "code",
   "execution_count": 94,
   "metadata": {},
   "outputs": [
    {
     "data": {
      "text/plain": [
       "0.006361173856841864"
      ]
     },
     "execution_count": 94,
     "metadata": {},
     "output_type": "execute_result"
    }
   ],
   "source": [
    "0.1/np.sqrt(247.13)"
   ]
  },
  {
   "cell_type": "code",
   "execution_count": 111,
   "metadata": {},
   "outputs": [
    {
     "data": {
      "text/plain": [
       "0.0012656178111618566"
      ]
     },
     "execution_count": 111,
     "metadata": {},
     "output_type": "execute_result"
    }
   ],
   "source": [
    "(2.8971945076752545 - 2.893397654241769)/3"
   ]
  },
  {
   "cell_type": "code",
   "execution_count": null,
   "metadata": {},
   "outputs": [],
   "source": []
  }
 ],
 "metadata": {
  "kernelspec": {
   "display_name": "Python 3",
   "language": "python",
   "name": "python3"
  },
  "language_info": {
   "codemirror_mode": {
    "name": "ipython",
    "version": 3
   },
   "file_extension": ".py",
   "mimetype": "text/x-python",
   "name": "python",
   "nbconvert_exporter": "python",
   "pygments_lexer": "ipython3",
   "version": "3.6.5"
  }
 },
 "nbformat": 4,
 "nbformat_minor": 2
}
