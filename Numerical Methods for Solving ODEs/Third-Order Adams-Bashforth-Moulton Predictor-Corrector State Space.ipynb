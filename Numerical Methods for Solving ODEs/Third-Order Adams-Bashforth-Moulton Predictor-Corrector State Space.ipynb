{
 "cells": [
  {
   "cell_type": "code",
   "execution_count": 1,
   "metadata": {},
   "outputs": [],
   "source": [
    "import numpy as np"
   ]
  },
  {
   "cell_type": "code",
   "execution_count": 2,
   "metadata": {},
   "outputs": [],
   "source": [
    "def f1(t, x, y, z):\n",
    "    return y\n",
    "\n",
    "def f2(t, x, y, z):\n",
    "    return z\n",
    "\n",
    "def f3(t, x, y, z):\n",
    "    return x**2 - y**2 - (x - t)*z"
   ]
  },
  {
   "cell_type": "code",
   "execution_count": 52,
   "metadata": {},
   "outputs": [],
   "source": [
    "t = 0.5\n",
    "t_target = 2.2\n",
    "h = 0.1\n",
    "x = -1\n",
    "y = 1\n",
    "z = 2\n",
    "X = [x]\n",
    "Y = [y]\n",
    "Z = [z]\n",
    "X_hat = []\n",
    "Y_hat = []\n",
    "Z_hat = []"
   ]
  },
  {
   "cell_type": "code",
   "execution_count": 53,
   "metadata": {},
   "outputs": [],
   "source": [
    "# The third-order adams-bashforth-moulton predictor-corrector method is not self-starting, \n",
    "# therefore we will use the forth-order Runge-Kutta method to take the inital step needed.\n",
    "\n",
    "c_11 = h*f1(t, X[0], Y[0], Z[0])\n",
    "c_21 = h*f2(t, X[0], Y[0], Z[0])\n",
    "c_31 = h*f3(t, X[0], Y[0], Z[0])\n",
    "\n",
    "c_12 = h*f1(t+h*1/2, X[0]+c_11*1/2, Y[0]+c_21*1/2, Z[0]+c_31*1/2)\n",
    "c_22 = h*f2(t+h*1/2, X[0]+c_11*1/2, Y[0]+c_21*1/2, Z[0]+c_31*1/2)\n",
    "c_32 = h*f3(t+h*1/2, X[0]+c_11*1/2, Y[0]+c_21*1/2, Z[0]+c_31*1/2)\n",
    "\n",
    "c_13 = h*f1(t+h*1/2, X[0]+c_12*1/2, Y[0]+c_22*1/2, Z[0]+c_32*1/2)\n",
    "c_23 = h*f2(t+h*1/2, X[0]+c_12*1/2, Y[0]+c_22*1/2, Z[0]+c_32*1/2)\n",
    "c_33 = h*f3(t+h*1/2, X[0]+c_12*1/2, Y[0]+c_22*1/2, Z[0]+c_32*1/2)\n",
    "\n",
    "c_14 = h*f1(t+h, X[0]+c_13, Y[0]+c_23, Z[0]+c_33)\n",
    "c_24 = h*f2(t+h, X[0]+c_13, Y[0]+c_23, Z[0]+c_33)\n",
    "c_34 = h*f3(t+h, X[0]+c_13, Y[0]+c_23, Z[0]+c_33)\n",
    "\n",
    "X.append(X[0]+1/6*(c_11+2*c_12+2*c_13+c_14))\n",
    "Y.append(Y[0]+1/6*(c_21+2*c_22+2*c_23+c_24))\n",
    "Z.append(Z[0]+1/6*(c_31+2*c_32+2*c_33+c_34))"
   ]
  },
  {
   "cell_type": "code",
   "execution_count": 54,
   "metadata": {},
   "outputs": [],
   "source": [
    "for i in range(1, int(np.round(t_target/h-t/h))):\n",
    "    X_hat.append(X[i]+1/2*h*(3*f1(t+i*h, X[i], Y[i], Z[i])-f1(t+(i-1)*h, X[i-1], Y[i-1], Z[i-1])))\n",
    "    Y_hat.append(Y[i]+1/2*h*(3*f2(t+i*h, X[i], Y[i], Z[i])-f2(t+(i-1)*h, X[i-1], Y[i-1], Z[i-1])))\n",
    "    Z_hat.append(Z[i]+1/2*h*(3*f3(t+i*h, X[i], Y[i], Z[i])-f3(t+(i-1)*h, X[i-1], Y[i-1], Z[i-1])))\n",
    "\n",
    "    X.append(X[i]+1/12*h*(5*f1(t+(i+1)*h, X_hat[i-1], Y_hat[i-1], Z_hat[i-1])+8*f1(t+i*h, X[i], Y[i], Z[i])-f1(t+(i-1)*h, X[i-1], Y[i-1], Z[i-1])))\n",
    "    Y.append(Y[i]+1/12*h*(5*f2(t+(i+1)*h, X_hat[i-1], Y_hat[i-1], Z_hat[i-1])+8*f2(t+i*h, X[i], Y[i], Z[i])-f2(t+(i-1)*h, X[i-1], Y[i-1], Z[i-1])))    \n",
    "    Z.append(Z[i]+1/12*h*(5*f3(t+(i+1)*h, X_hat[i-1], Y_hat[i-1], Z_hat[i-1])+8*f3(t+i*h, X[i], Y[i], Z[i])-f3(t+(i-1)*h, X[i-1], Y[i-1], Z[i-1])))    "
   ]
  },
  {
   "cell_type": "code",
   "execution_count": 56,
   "metadata": {},
   "outputs": [
    {
     "name": "stdout",
     "output_type": "stream",
     "text": [
      "x(2.2) ~ X(2.2) = 2.923350357623869\n",
      "y(2.2) ~ Y(2.2) = 1.9139910382868532\n",
      "z(2.2) ~ Z(2.2) = -1.0484366320311291\n"
     ]
    }
   ],
   "source": [
    "print(f'x({t_target}) ~ X({t_target}) = {X[int(np.round(t_target/h-t/h))]}')\n",
    "print(f'y({t_target}) ~ Y({t_target}) = {Y[int(np.round(t_target/h-t/h))]}')\n",
    "print(f'z({t_target}) ~ Z({t_target}) = {Z[int(np.round(t_target/h-t/h))]}')"
   ]
  },
  {
   "cell_type": "markdown",
   "metadata": {},
   "source": [
    "Using a program derived from this algorithm with a step size $h = 0.1$ gives\n",
    "$X(2.2) = 2.923350$ and, with a step size $h = 0.05$, gives $X(2.2) = 2.925418$. The\n",
    "method of Richardson extrapolation given in Section 2.3.6, is equally applicable\n",
    "to problems such as this one involving coupled equations. Since the third-order\n",
    "predictor–corrector method used has a local error of $O(h^4)$, the global error will\n",
    "be $O(h^3)$. The method therefore gives the estimated error in the second value of\n",
    "$X(2.2)$ as $2.923350−2.925418)/7 = −0.000295$. For 6 decimal place accuracy in the\n",
    "final estimate we need error $≤ 0.0000005$; in other words, the error must be reduced\n",
    "by a factor of $0.000295/0.0000005 = 590$. Since we are using a third-order method,\n",
    "the required step length will be $0.05/\\sqrt[3]{\n",
    "590} = 0.00596$. Rounding this down to a\n",
    "suitable size suggests that a step size of $h = 0.005$ will give a solution accurate to\n",
    "6 decimal places. In fact the program yields, with $h = 0.005$, $X(2.2) = 2.92575057$.\n",
    "With $h = 0.0025$ it gives $X(2.2) = 2.92575089$. Richardson extrapolation predicts\n",
    "the error in the $h = 0.0025$ solution as $0.000000046$ and therefore that in the $h = 0.005$ as $0.00000037$. The required accuracy was therefore comfortably\n",
    "achieved using $h = 0.005$."
   ]
  },
  {
   "cell_type": "code",
   "execution_count": null,
   "metadata": {},
   "outputs": [],
   "source": []
  }
 ],
 "metadata": {
  "kernelspec": {
   "display_name": "Python 3",
   "language": "python",
   "name": "python3"
  },
  "language_info": {
   "codemirror_mode": {
    "name": "ipython",
    "version": 3
   },
   "file_extension": ".py",
   "mimetype": "text/x-python",
   "name": "python",
   "nbconvert_exporter": "python",
   "pygments_lexer": "ipython3",
   "version": "3.6.5"
  }
 },
 "nbformat": 4,
 "nbformat_minor": 2
}
