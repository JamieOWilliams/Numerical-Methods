{
 "cells": [
  {
   "cell_type": "code",
   "execution_count": 1,
   "metadata": {},
   "outputs": [],
   "source": [
    "import numpy as np"
   ]
  },
  {
   "cell_type": "code",
   "execution_count": 2,
   "metadata": {},
   "outputs": [],
   "source": [
    "def f1(t, x, y):\n",
    "    return y\n",
    "\n",
    "def f2(t, x, y):\n",
    "    return np.sin(t) - x - x**2*y"
   ]
  },
  {
   "cell_type": "code",
   "execution_count": 34,
   "metadata": {},
   "outputs": [],
   "source": [
    "t = 0\n",
    "t_target = 1.6\n",
    "h = 0.04\n",
    "x = 0\n",
    "y = 1\n",
    "X = [x]\n",
    "Y = [y]\n",
    "c = [[], []]"
   ]
  },
  {
   "cell_type": "code",
   "execution_count": 35,
   "metadata": {},
   "outputs": [],
   "source": [
    "for i in range(int(np.round(t_target/h-t/h))):\n",
    "    c_11 = h*f1(t+i*h, X[i], Y[i])\n",
    "    c_21 = h*f2(t+i*h, X[i], Y[i])\n",
    "    \n",
    "    c_12 = h*f1(t+i*h+h*1/2, X[i]+c_11*1/2, Y[i]+c_21*1/2)\n",
    "    c_22 = h*f2(t+i*h+h*1/2, X[i]+c_11*1/2, Y[i]+c_21*1/2)\n",
    "    \n",
    "    c_13 = h*f1(t+i*h+h*1/2, X[i]+c_12*1/2, Y[i]+c_22*1/2)\n",
    "    c_23 = h*f2(t+i*h+h*1/2, X[i]+c_12*1/2, Y[i]+c_22*1/2)\n",
    "    \n",
    "    c_14 = h*f1(t+i*h+h, X[i]+c_13, Y[i]+c_23)\n",
    "    c_24 = h*f2(t+i*h+h, X[i]+c_13, Y[i]+c_23)\n",
    "    \n",
    "    X.append(X[i]+1/6*(c_11+2*c_12+2*c_13+c_14))\n",
    "    Y.append(Y[i]+1/6*(c_21+2*c_22+2*c_23+c_24))    "
   ]
  },
  {
   "cell_type": "code",
   "execution_count": 36,
   "metadata": {},
   "outputs": [
    {
     "data": {
      "text/plain": [
       "[0,\n",
       " 0.039999785956425955,\n",
       " 0.0799965605392924,\n",
       " 0.11998252555169034,\n",
       " 0.15994459290185536,\n",
       " 0.19986433715211804,\n",
       " 0.2397179873964031,\n",
       " 0.27947646862847253,\n",
       " 0.3191055022122041,\n",
       " 0.3585657741411968,\n",
       " 0.3978131784274955,\n",
       " 0.43679914115858126,\n",
       " 0.47547102850574696,\n",
       " 0.5137726392866373,\n",
       " 0.5516447796486004,\n",
       " 0.5890259141549892,\n",
       " 0.6258528841678697,\n",
       " 0.6620616811024916,\n",
       " 0.6975882590761792,\n",
       " 0.7323693688876581,\n",
       " 0.7663433933318248,\n",
       " 0.7994511627401211,\n",
       " 0.831636729452661,\n",
       " 0.8628480807301351,\n",
       " 0.8930377713883463,\n",
       " 0.9221634601031081,\n",
       " 0.9501883367405598,\n",
       " 0.9770814320174072,\n",
       " 1.0028178050514656,\n",
       " 1.0273786086747505,\n",
       " 1.050751036505522,\n",
       " 1.0729281594948978,\n",
       " 1.093908662802998,\n",
       " 1.1136964962969929,\n",
       " 1.1323004536342867,\n",
       " 1.1497336957897961,\n",
       " 1.1660132350483048,\n",
       " 1.1811593949925778,\n",
       " 1.195195260985004,\n",
       " 1.2081461341905384,\n",
       " 1.2200390004515576]"
      ]
     },
     "execution_count": 36,
     "metadata": {},
     "output_type": "execute_result"
    }
   ],
   "source": [
    "X"
   ]
  },
  {
   "cell_type": "code",
   "execution_count": 37,
   "metadata": {},
   "outputs": [
    {
     "data": {
      "text/plain": [
       "[1,\n",
       " 0.9999785625321193,\n",
       " 0.9998277051318432,\n",
       " 0.9994160363624861,\n",
       " 0.9986105734154392,\n",
       " 0.9972775957185138,\n",
       " 0.9952837567675157,\n",
       " 0.9924974445564088,\n",
       " 0.9887903724149562,\n",
       " 0.984039372032989,\n",
       " 0.9781283493917198,\n",
       " 0.9709503528383053,\n",
       " 0.9624096913942886,\n",
       " 0.9524240314753011,\n",
       " 0.9409263924860862,\n",
       " 0.927866957203912,\n",
       " 0.9132146123343305,\n",
       " 0.8969581387660267,\n",
       " 0.8791069802039736,\n",
       " 0.8596915329647045,\n",
       " 0.8387629182730464,\n",
       " 0.8163922204606763,\n",
       " 0.7926691986971678,\n",
       " 0.7677005046636334,\n",
       " 0.7416074621534675,\n",
       " 0.7145234852412413,\n",
       " 0.6865912279055639,\n",
       " 0.6579595687047798,\n",
       " 0.6287805386507745,\n",
       " 0.5992062987080169,\n",
       " 0.5693862657891177,\n",
       " 0.5394644736043142,\n",
       " 0.5095772384646605,\n",
       " 0.479851181540982,\n",
       " 0.4504016395848878,\n",
       " 0.4213314770676686,\n",
       " 0.3927302952241269,\n",
       " 0.3646740184601344,\n",
       " 0.33722482654542146,\n",
       " 0.3104313922142081,\n",
       " 0.2843293782142513]"
      ]
     },
     "execution_count": 37,
     "metadata": {},
     "output_type": "execute_result"
    }
   ],
   "source": [
    "Y"
   ]
  },
  {
   "cell_type": "markdown",
   "metadata": {},
   "source": [
    "Step size $h=0.4$ gives $X(1.6) = 1.220254143277014$\n",
    "\n",
    "Step size $h=0.2$ gives $X(1.6) = 1.2200552932390438$\n",
    "\n",
    "Step size $h=0.08$ gives $X(1.6) = 1.2200394334624476$\n",
    "\n",
    "Step size $h=0.04$ gives $X(1.6) = 1.2200390004515576$"
   ]
  },
  {
   "cell_type": "markdown",
   "metadata": {},
   "source": [
    "The\n",
    "method of Richardson extrapolation, given in Section 2.3.6, is equally applicable\n",
    "to problems such as this one involving coupled equations. Since the Runge–\n",
    "Kutta method has a local error of $O(h)^5$ the global error will be $O(h^4)$. The\n",
    "method therefore gives the estimated error in the second value of $X(1.6)$ as\n",
    "$(1.220254 − 1.220055)/15 = 0.000013$. For 6 decimal place accuracy in the final\n",
    "estimate we need error $≤ 0.0000005$; in other words, the error must be reduced\n",
    "by a factor of $0.000013/0.0000005 = 26$. Since Runge–Kutta is a fourth-order\n",
    "method the required step length will be $0.2/\\sqrt[4]{26} = 0.088$. Rounding this down to\n",
    "a suitable size suggests that a step size of $h = 0.08$ will give a solution accurate to\n",
    "6 decimal places. In fact the program yields, with $h = 0.08$, $X(1.6) = 1.2200394$.\n",
    "With $h = 0.04$ it gives $X(1.6) = 1.2200390$. Richardson extrapolation predicts the error in the $h = 0.04$ solution as $0.00000003$ and therefore that in the $h = 0.08$ as\n",
    "$0.0000005$. The required accuracy was therefore just achieved using $h = 0.08$."
   ]
  },
  {
   "cell_type": "code",
   "execution_count": null,
   "metadata": {},
   "outputs": [],
   "source": []
  }
 ],
 "metadata": {
  "kernelspec": {
   "display_name": "Python 3",
   "language": "python",
   "name": "python3"
  },
  "language_info": {
   "codemirror_mode": {
    "name": "ipython",
    "version": 3
   },
   "file_extension": ".py",
   "mimetype": "text/x-python",
   "name": "python",
   "nbconvert_exporter": "python",
   "pygments_lexer": "ipython3",
   "version": "3.6.5"
  }
 },
 "nbformat": 4,
 "nbformat_minor": 2
}
