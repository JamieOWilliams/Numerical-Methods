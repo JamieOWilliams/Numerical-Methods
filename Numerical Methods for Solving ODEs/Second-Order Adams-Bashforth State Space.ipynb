{
 "cells": [
  {
   "cell_type": "code",
   "execution_count": 1,
   "metadata": {},
   "outputs": [],
   "source": [
    "import numpy as np"
   ]
  },
  {
   "cell_type": "code",
   "execution_count": 2,
   "metadata": {},
   "outputs": [],
   "source": [
    "def f1(t, x, y):\n",
    "    return y\n",
    "\n",
    "def f2(t, x, y):\n",
    "    return np.sin(t) - x - x**2*y"
   ]
  },
  {
   "cell_type": "code",
   "execution_count": 8,
   "metadata": {},
   "outputs": [],
   "source": [
    "t = 0\n",
    "t_target = 0.3\n",
    "h = 0.1\n",
    "x = 0\n",
    "y = 1\n",
    "X = [x]\n",
    "Y = [y]"
   ]
  },
  {
   "cell_type": "code",
   "execution_count": 9,
   "metadata": {},
   "outputs": [
    {
     "name": "stdout",
     "output_type": "stream",
     "text": [
      "X1_hat: 0.1, X1: 0.1, Y1_hat: 1.0, Y1: 0.9994916708323414\n"
     ]
    }
   ],
   "source": [
    "# Predictor corrector method\n",
    "X1_hat = X[0] + h*f1(t, X[0], Y[0])\n",
    "Y1_hat = Y[0] + h*f2(t, X[0], Y[0])\n",
    "\n",
    "X.append(X[0] + 1/2*h*(f1(t, X[0], Y[0]) + f1(t+h, X1_hat, Y1_hat)))\n",
    "Y.append(Y[0] + 1/2*h*(f2(t, X[0], Y[0]) + f2(t+h, X1_hat, Y1_hat)))\n",
    "\n",
    "print(f'X1_hat: {X1_hat}, X1: {X[1]}, Y1_hat: {Y1_hat}, Y1: {Y[1]}')"
   ]
  },
  {
   "cell_type": "code",
   "execution_count": 10,
   "metadata": {},
   "outputs": [],
   "source": [
    "for i in range(1, int(np.ceil(t_target/h-t/h))):\n",
    "    X.append(X[i]+1/2*h*(3*f1(t+i*h, X[i], Y[i])-f1(t+(i-1)*h, X[i-1], Y[i-1])))\n",
    "    Y.append(Y[i]+1/2*h*(3*f2(t+i*h, X[i], Y[i])-f2(t+(i-1)*h, X[i-1], Y[i-1])))    "
   ]
  },
  {
   "cell_type": "code",
   "execution_count": 11,
   "metadata": {},
   "outputs": [
    {
     "data": {
      "text/plain": [
       "[0, 0.1, 0.1999237506248512, 0.29964428395670173]"
      ]
     },
     "execution_count": 11,
     "metadata": {},
     "output_type": "execute_result"
    }
   ],
   "source": [
    "X"
   ]
  },
  {
   "cell_type": "code",
   "execution_count": 12,
   "metadata": {},
   "outputs": [
    {
     "data": {
      "text/plain": [
       "[1, 0.9994916708323414, 0.997967445823117, 0.9923041179701119]"
      ]
     },
     "execution_count": 12,
     "metadata": {},
     "output_type": "execute_result"
    }
   ],
   "source": [
    "Y"
   ]
  },
  {
   "cell_type": "code",
   "execution_count": null,
   "metadata": {},
   "outputs": [],
   "source": []
  }
 ],
 "metadata": {
  "kernelspec": {
   "display_name": "Python 3",
   "language": "python",
   "name": "python3"
  },
  "language_info": {
   "codemirror_mode": {
    "name": "ipython",
    "version": 3
   },
   "file_extension": ".py",
   "mimetype": "text/x-python",
   "name": "python",
   "nbconvert_exporter": "python",
   "pygments_lexer": "ipython3",
   "version": "3.6.5"
  }
 },
 "nbformat": 4,
 "nbformat_minor": 2
}
