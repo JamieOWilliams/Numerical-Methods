{
 "cells": [
  {
   "cell_type": "code",
   "execution_count": 10,
   "metadata": {},
   "outputs": [],
   "source": [
    "import numpy as np"
   ]
  },
  {
   "cell_type": "code",
   "execution_count": 11,
   "metadata": {},
   "outputs": [],
   "source": [
    "def f(t, x):\n",
    "    return np.sqrt(np.square(x) + 2*t)"
   ]
  },
  {
   "cell_type": "code",
   "execution_count": 27,
   "metadata": {},
   "outputs": [],
   "source": [
    "x = 1\n",
    "t = 0\n",
    "t_target = 0.5\n",
    "h = 0.1\n",
    "X = [x]"
   ]
  },
  {
   "cell_type": "code",
   "execution_count": 28,
   "metadata": {},
   "outputs": [
    {
     "name": "stdout",
     "output_type": "stream",
     "text": [
      "X1_hat: 1.1, X1: 1.1093717104351897, X2_hat: 1.2289838165078568, X2: 1.2382863957333148\n"
     ]
    }
   ],
   "source": [
    "X1_hat = X[0] + h*f(t, X[0])\n",
    "X.append(X[0] + 1/2*h*(f(t, X[0]) + f(t+h, X1_hat)))\n",
    "X2_hat = X[1] + h*f(t+h, X[1])\n",
    "X.append(X[1] + 1/2*h*(f(t+h, X[1]) + f(t+(2*h), X2_hat)))\n",
    "\n",
    "print(f'X1_hat: {X1_hat}, X1: {X[1]}, X2_hat: {X2_hat}, X2: {X[2]}')"
   ]
  },
  {
   "cell_type": "code",
   "execution_count": 29,
   "metadata": {},
   "outputs": [],
   "source": [
    "for i in range(2, int(t_target/h)):\n",
    "    X.append(X[i] + 1/12*h*(23*f(t+(i*h), X[i]) - 16*f(t+(i-1)*h, X[i-1]) + 5*f(t+(i-2)*h, X[i-2])))"
   ]
  },
  {
   "cell_type": "code",
   "execution_count": 30,
   "metadata": {},
   "outputs": [
    {
     "data": {
      "text/plain": [
       "[1,\n",
       " 1.1093717104351897,\n",
       " 1.2382863957333148,\n",
       " 1.3869733084948608,\n",
       " 1.5559026382392827,\n",
       " 1.7460008851769664]"
      ]
     },
     "execution_count": 30,
     "metadata": {},
     "output_type": "execute_result"
    }
   ],
   "source": [
    "X"
   ]
  },
  {
   "cell_type": "code",
   "execution_count": null,
   "metadata": {},
   "outputs": [],
   "source": []
  }
 ],
 "metadata": {
  "kernelspec": {
   "display_name": "Python 3",
   "language": "python",
   "name": "python3"
  },
  "language_info": {
   "codemirror_mode": {
    "name": "ipython",
    "version": 3
   },
   "file_extension": ".py",
   "mimetype": "text/x-python",
   "name": "python",
   "nbconvert_exporter": "python",
   "pygments_lexer": "ipython3",
   "version": "3.6.5"
  }
 },
 "nbformat": 4,
 "nbformat_minor": 2
}
