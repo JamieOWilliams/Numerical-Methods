{
 "cells": [
  {
   "cell_type": "code",
   "execution_count": 65,
   "metadata": {},
   "outputs": [],
   "source": [
    "import numpy as np"
   ]
  },
  {
   "cell_type": "code",
   "execution_count": 140,
   "metadata": {},
   "outputs": [],
   "source": [
    "def f(t, x):\n",
    "#     return x + t + x*t\n",
    "#     return 1 / (x + t)\n",
    "#     return np.square(x) + t**(3/2)\n",
    "    return np.square(x)*np.exp(-t)"
   ]
  },
  {
   "cell_type": "code",
   "execution_count": 170,
   "metadata": {},
   "outputs": [],
   "source": [
    "x = 1\n",
    "t = 1\n",
    "t_target = 3\n",
    "h = 0.5\n",
    "X = [x]"
   ]
  },
  {
   "cell_type": "code",
   "execution_count": 171,
   "metadata": {},
   "outputs": [],
   "source": [
    "for i in range(int(t_target/h)-int(t/h)):\n",
    "    c1 = h*f((t+i*h), X[i])\n",
    "    c2 = h*f((t+i*h)+(1/2*h), X[i]+1/2*c1)\n",
    "    c3 = h*f((t+i*h)+(1/2*h), X[i]+1/2*c2)\n",
    "    c4 = h*f((t+i*h)+h, X[i]+c3)\n",
    "    X.append(X[i] + 1/6*(c1 + 2*c2 + 2*c3 + c4))"
   ]
  },
  {
   "cell_type": "code",
   "execution_count": 172,
   "metadata": {},
   "outputs": [
    {
     "name": "stdout",
     "output_type": "stream",
     "text": [
      "Therefore x(3) ~ X(3) = 1.4664893493590048\n"
     ]
    }
   ],
   "source": [
    "print(f'Therefore x({t_target}) ~ X({t_target}) = {X[int(t_target/h)-int(t/h)]}')"
   ]
  },
  {
   "cell_type": "code",
   "execution_count": 173,
   "metadata": {},
   "outputs": [
    {
     "data": {
      "text/plain": [
       "6.939418775460855e-06"
      ]
     },
     "execution_count": 173,
     "metadata": {},
     "output_type": "execute_result"
    }
   ],
   "source": [
    "(1.4665934406406367 - 1.4664893493590048)/15"
   ]
  },
  {
   "cell_type": "code",
   "execution_count": 166,
   "metadata": {},
   "outputs": [
    {
     "data": {
      "text/plain": [
       "-9.165228087285963e-07"
      ]
     },
     "execution_count": 166,
     "metadata": {},
     "output_type": "execute_result"
    }
   ],
   "source": [
    "(1.4664756015168738 - 1.4664893493590048)/15"
   ]
  },
  {
   "cell_type": "code",
   "execution_count": null,
   "metadata": {},
   "outputs": [],
   "source": []
  }
 ],
 "metadata": {
  "kernelspec": {
   "display_name": "Python 3",
   "language": "python",
   "name": "python3"
  },
  "language_info": {
   "codemirror_mode": {
    "name": "ipython",
    "version": 3
   },
   "file_extension": ".py",
   "mimetype": "text/x-python",
   "name": "python",
   "nbconvert_exporter": "python",
   "pygments_lexer": "ipython3",
   "version": "3.6.5"
  }
 },
 "nbformat": 4,
 "nbformat_minor": 2
}
