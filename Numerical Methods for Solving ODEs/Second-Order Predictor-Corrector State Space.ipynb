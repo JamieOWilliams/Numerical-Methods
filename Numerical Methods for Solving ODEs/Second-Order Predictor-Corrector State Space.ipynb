{
 "cells": [
  {
   "cell_type": "code",
   "execution_count": 1,
   "metadata": {},
   "outputs": [],
   "source": [
    "import numpy as np"
   ]
  },
  {
   "cell_type": "code",
   "execution_count": 2,
   "metadata": {},
   "outputs": [],
   "source": [
    "def f1(t, x, y, z):\n",
    "    return y\n",
    "\n",
    "def f2(t, x, y, z):\n",
    "    return z\n",
    "\n",
    "def f3(t, x, y, z):\n",
    "    return x**2 - y**2 - (x - t)*z"
   ]
  },
  {
   "cell_type": "code",
   "execution_count": 17,
   "metadata": {},
   "outputs": [],
   "source": [
    "t = 0.5\n",
    "t_target = 0.65\n",
    "h = 0.05\n",
    "x = -1\n",
    "y = 1\n",
    "z = 2\n",
    "X = [x]\n",
    "Y = [y]\n",
    "Z = [z]\n",
    "X_hat = [X[0]+h*f1(t, X[0], Y[0], Z[0])][0:1]\n",
    "Y_hat = [Y[0]+h*f2(t, X[0], Y[0], Z[0])][0:1]\n",
    "Z_hat = [Z[0]+h*f3(t, X[0], Y[0], Z[0])][0:1]"
   ]
  },
  {
   "cell_type": "code",
   "execution_count": 18,
   "metadata": {},
   "outputs": [],
   "source": [
    "for i in range(int(np.round(t_target/h-t/h))):\n",
    "    X_hat.append(X[i]+h*f1(t+i*h, X[i], Y[i], Z[i]))\n",
    "    Y_hat.append(Y[i]+h*f2(t+i*h, X[i], Y[i], Z[i]))\n",
    "    Z_hat.append(Z[i]+h*f3(t+i*h, X[i], Y[i], Z[i]))\n",
    "    \n",
    "    X.append(X[i]+1/2*h*(f1(t+i*h, X[i], Y[i], Z[i])+f1(t+(i+1)*h, X_hat[i+1], Y_hat[i+1], Z_hat[i+1])))\n",
    "    Y.append(Y[i]+1/2*h*(f2(t+i*h, X[i], Y[i], Z[i])+f2(t+(i+1)*h, X_hat[i+1], Y_hat[i+1], Z_hat[i+1])))    \n",
    "    Z.append(Z[i]+1/2*h*(f3(t+i*h, X[i], Y[i], Z[i])+f3(t+(i+1)*h, X_hat[i+1], Y_hat[i+1], Z_hat[i+1])))    "
   ]
  },
  {
   "cell_type": "code",
   "execution_count": 19,
   "metadata": {},
   "outputs": [
    {
     "data": {
      "text/plain": [
       "[-1, -0.9475, -0.889627578125, -0.8260278464503096]"
      ]
     },
     "execution_count": 19,
     "metadata": {},
     "output_type": "execute_result"
    }
   ],
   "source": [
    "X"
   ]
  },
  {
   "cell_type": "code",
   "execution_count": 20,
   "metadata": {},
   "outputs": [
    {
     "data": {
      "text/plain": [
       "[1, 1.10375, 1.2147669107421875, 1.3326294791730424]"
      ]
     },
     "execution_count": 20,
     "metadata": {},
     "output_type": "execute_result"
    }
   ],
   "source": [
    "Y"
   ]
  },
  {
   "cell_type": "code",
   "execution_count": 21,
   "metadata": {},
   "outputs": [
    {
     "data": {
      "text/plain": [
       "[2, 2.1479375, 2.289108910064831, 2.419929221200683]"
      ]
     },
     "execution_count": 21,
     "metadata": {},
     "output_type": "execute_result"
    }
   ],
   "source": [
    "Z"
   ]
  },
  {
   "cell_type": "code",
   "execution_count": null,
   "metadata": {},
   "outputs": [],
   "source": []
  }
 ],
 "metadata": {
  "kernelspec": {
   "display_name": "Python 3",
   "language": "python",
   "name": "python3"
  },
  "language_info": {
   "codemirror_mode": {
    "name": "ipython",
    "version": 3
   },
   "file_extension": ".py",
   "mimetype": "text/x-python",
   "name": "python",
   "nbconvert_exporter": "python",
   "pygments_lexer": "ipython3",
   "version": "3.6.5"
  }
 },
 "nbformat": 4,
 "nbformat_minor": 2
}
