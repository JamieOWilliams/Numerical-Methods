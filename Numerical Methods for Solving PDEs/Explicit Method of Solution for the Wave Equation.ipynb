{
 "cells": [
  {
   "cell_type": "code",
   "execution_count": 212,
   "metadata": {},
   "outputs": [],
   "source": [
    "import numpy as np"
   ]
  },
  {
   "cell_type": "code",
   "execution_count": 304,
   "metadata": {},
   "outputs": [],
   "source": [
    "c = 0.5\n",
    "delta_x = 0.25\n",
    "delta_t = 0.25\n",
    "lam = c*delta_t/delta_x\n",
    "\n",
    "t_target = 2\n",
    "\n",
    "def cond_a(x, t):\n",
    "#     return np.sin(np.pi*x*delta_x)\n",
    "    return 0\n",
    "\n",
    "def cond_b(x, t):\n",
    "    return 0\n",
    "\n",
    "def cond_c(x, t):\n",
    "    if x <= (1/2)/delta_x:\n",
    "        return delta_x*x\n",
    "    else:\n",
    "        return delta_x*(1/delta_x-x)\n",
    "    \n",
    "dims = (int(t_target/delta_t), 5)"
   ]
  },
  {
   "cell_type": "code",
   "execution_count": 305,
   "metadata": {},
   "outputs": [],
   "source": [
    "u = np.zeros(dims)"
   ]
  },
  {
   "cell_type": "code",
   "execution_count": 306,
   "metadata": {},
   "outputs": [
    {
     "data": {
      "text/plain": [
       "array([[0., 0., 0., 0., 0.],\n",
       "       [0., 0., 0., 0., 0.],\n",
       "       [0., 0., 0., 0., 0.],\n",
       "       [0., 0., 0., 0., 0.],\n",
       "       [0., 0., 0., 0., 0.],\n",
       "       [0., 0., 0., 0., 0.],\n",
       "       [0., 0., 0., 0., 0.],\n",
       "       [0., 0., 0., 0., 0.]])"
      ]
     },
     "execution_count": 306,
     "metadata": {},
     "output_type": "execute_result"
    }
   ],
   "source": [
    "u[0] = [cond_a(x, 0) for x in np.arange(5)]\n",
    "np.round(u, decimals=4)"
   ]
  },
  {
   "cell_type": "code",
   "execution_count": 307,
   "metadata": {},
   "outputs": [
    {
     "data": {
      "text/plain": [
       "array([[0.    , 0.    , 0.    , 0.    , 0.    ],\n",
       "       [0.    , 0.0625, 0.125 , 0.0625, 0.    ],\n",
       "       [0.    , 0.    , 0.    , 0.    , 0.    ],\n",
       "       [0.    , 0.    , 0.    , 0.    , 0.    ],\n",
       "       [0.    , 0.    , 0.    , 0.    , 0.    ],\n",
       "       [0.    , 0.    , 0.    , 0.    , 0.    ],\n",
       "       [0.    , 0.    , 0.    , 0.    , 0.    ],\n",
       "       [0.    , 0.    , 0.    , 0.    , 0.    ]])"
      ]
     },
     "execution_count": 307,
     "metadata": {},
     "output_type": "execute_result"
    }
   ],
   "source": [
    "u[1][1:dims[1]-1] = [(1-lam**2)*u[0][i] + 1/2*lam**2*(u[0][i+1] + u[0][i-1]) + delta_x*cond_c(i, 0) for i in range(1, dims[1]-1)]\n",
    "np.round(u, decimals=4)"
   ]
  },
  {
   "cell_type": "code",
   "execution_count": 308,
   "metadata": {},
   "outputs": [],
   "source": [
    "for j in range(2, dims[0]):\n",
    "    u[j][1:dims[1]-1] = [2*u[j-1][i]-u[j-2][i]+lam**2*(u[j-1][i+1]-2*u[j-1][i]+u[j-1][i-1]) for i in range(1, dims[1]-1)]"
   ]
  },
  {
   "cell_type": "code",
   "execution_count": 309,
   "metadata": {},
   "outputs": [
    {
     "data": {
      "text/plain": [
       "array([[0.    , 0.    , 0.    , 0.    , 0.    ],\n",
       "       [0.    , 0.0625, 0.125 , 0.0625, 0.    ],\n",
       "       [0.    , 0.125 , 0.2188, 0.125 , 0.    ],\n",
       "       [0.    , 0.1797, 0.2656, 0.1797, 0.    ],\n",
       "       [0.    , 0.2109, 0.2695, 0.2109, 0.    ],\n",
       "       [0.    , 0.2041, 0.2441, 0.2041, 0.    ],\n",
       "       [0.    , 0.1562, 0.1987, 0.1562, 0.    ],\n",
       "       [0.    , 0.08  , 0.1321, 0.08  , 0.    ]])"
      ]
     },
     "execution_count": 309,
     "metadata": {},
     "output_type": "execute_result"
    }
   ],
   "source": [
    "np.round(u, decimals=4)"
   ]
  },
  {
   "cell_type": "code",
   "execution_count": null,
   "metadata": {},
   "outputs": [],
   "source": []
  }
 ],
 "metadata": {
  "kernelspec": {
   "display_name": "Python 3",
   "language": "python",
   "name": "python3"
  },
  "language_info": {
   "codemirror_mode": {
    "name": "ipython",
    "version": 3
   },
   "file_extension": ".py",
   "mimetype": "text/x-python",
   "name": "python",
   "nbconvert_exporter": "python",
   "pygments_lexer": "ipython3",
   "version": "3.6.5"
  }
 },
 "nbformat": 4,
 "nbformat_minor": 2
}
