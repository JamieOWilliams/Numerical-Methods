{
 "cells": [
  {
   "cell_type": "code",
   "execution_count": 1,
   "metadata": {},
   "outputs": [],
   "source": [
    "import numpy as np\n",
    "np.set_printoptions(suppress=True)\n",
    "import sympy as sp\n",
    "sp.init_printing(use_unicode=True)"
   ]
  },
  {
   "cell_type": "code",
   "execution_count": 198,
   "metadata": {},
   "outputs": [],
   "source": [
    "kappa = 1\n",
    "delta_x = 0.2\n",
    "delta_t = 0.05\n",
    "lam = 0.4#kappa*delta_t/delta_x**2\n",
    "L = lam**2\n",
    "\n",
    "t_init = 0\n",
    "t_target = 1\n",
    "x_init = 0\n",
    "x_target = 1\n",
    "\n",
    "l = 1\n",
    "\n",
    "def u(x, t):\n",
    "    # The order in which these boundary conditions are defined is important!\n",
    "    if x == l:\n",
    "        return np.exp(-t)\n",
    "    if x == 0:\n",
    "        return 0\n",
    "    if t == 0:\n",
    "        return 0\n",
    "\n",
    "def du(x, t):\n",
    "    if t == 0:\n",
    "        return 0\n",
    "    if x == 0:\n",
    "        return 0\n",
    "    \n",
    "forcing_term = 0\n",
    "    \n",
    "dims = (int((t_target-t_init)/delta_t)+1, int((x_target-x_init)/delta_x)+1)"
   ]
  },
  {
   "cell_type": "code",
   "execution_count": 199,
   "metadata": {},
   "outputs": [
    {
     "data": {
      "text/latex": [
       "$$\\left[\\begin{matrix}1.0 & 0.0 & 0.0 & 0.0 & 0.0 & 0.0\\\\-0.4 & 2.8 & -0.4 & 0.0 & 0.0 & 0.0\\\\0.0 & -0.4 & 2.8 & -0.4 & 0.0 & 0.0\\\\0.0 & 0.0 & -0.4 & 2.8 & -0.4 & 0.0\\\\0.0 & 0.0 & 0.0 & -0.4 & 2.8 & -0.4\\\\0.0 & 0.0 & 0.0 & 0.0 & 0.0 & 1.0\\end{matrix}\\right]$$"
      ],
      "text/plain": [
       "⎡1.0   0.0   0.0   0.0   0.0   0.0 ⎤\n",
       "⎢                                  ⎥\n",
       "⎢-0.4  2.8   -0.4  0.0   0.0   0.0 ⎥\n",
       "⎢                                  ⎥\n",
       "⎢0.0   -0.4  2.8   -0.4  0.0   0.0 ⎥\n",
       "⎢                                  ⎥\n",
       "⎢0.0   0.0   -0.4  2.8   -0.4  0.0 ⎥\n",
       "⎢                                  ⎥\n",
       "⎢0.0   0.0   0.0   -0.4  2.8   -0.4⎥\n",
       "⎢                                  ⎥\n",
       "⎣0.0   0.0   0.0   0.0   0.0   1.0 ⎦"
      ]
     },
     "execution_count": 199,
     "metadata": {},
     "output_type": "execute_result"
    }
   ],
   "source": [
    "a = np.array([-lam, 2*(1+lam), -lam])\n",
    "A = np.eye(dims[1])\n",
    "for i in range(1, dims[1]-1):\n",
    "    A[i][i-1:i+2] = a\n",
    "A_inv = np.linalg.inv(A)\n",
    "sp.Matrix(A)"
   ]
  },
  {
   "cell_type": "code",
   "execution_count": 200,
   "metadata": {},
   "outputs": [
    {
     "data": {
      "text/latex": [
       "$$\\left[\\begin{matrix}1.0 & 0.0 & 0.0 & 0.0 & 0.0 & 0.0\\\\0.4 & 1.2 & 0.4 & 0.0 & 0.0 & 0.0\\\\0.0 & 0.4 & 1.2 & 0.4 & 0.0 & 0.0\\\\0.0 & 0.0 & 0.4 & 1.2 & 0.4 & 0.0\\\\0.0 & 0.0 & 0.0 & 0.4 & 1.2 & 0.4\\\\0.0 & 0.0 & 0.0 & 0.0 & 0.0 & 1.0\\end{matrix}\\right]$$"
      ],
      "text/plain": [
       "⎡1.0  0.0  0.0  0.0  0.0  0.0⎤\n",
       "⎢                            ⎥\n",
       "⎢0.4  1.2  0.4  0.0  0.0  0.0⎥\n",
       "⎢                            ⎥\n",
       "⎢0.0  0.4  1.2  0.4  0.0  0.0⎥\n",
       "⎢                            ⎥\n",
       "⎢0.0  0.0  0.4  1.2  0.4  0.0⎥\n",
       "⎢                            ⎥\n",
       "⎢0.0  0.0  0.0  0.4  1.2  0.4⎥\n",
       "⎢                            ⎥\n",
       "⎣0.0  0.0  0.0  0.0  0.0  1.0⎦"
      ]
     },
     "execution_count": 200,
     "metadata": {},
     "output_type": "execute_result"
    }
   ],
   "source": [
    "b = np.array([lam, 2*(1-lam), lam])\n",
    "C = np.eye(dims[1])\n",
    "for i in range(1, dims[1]-1):\n",
    "    C[i][i-1:i+2] = b\n",
    "sp.Matrix(C)"
   ]
  },
  {
   "cell_type": "code",
   "execution_count": 201,
   "metadata": {},
   "outputs": [],
   "source": [
    "grid = np.zeros(dims)"
   ]
  },
  {
   "cell_type": "code",
   "execution_count": 202,
   "metadata": {},
   "outputs": [
    {
     "data": {
      "text/latex": [
       "$$\\left[\\begin{matrix}0.0 & 0.0 & 0.0 & 0.0 & 0.0 & 1.0\\\\0.0 & 0.0 & 0.0 & 0.0 & 0.0 & 0.9512\\\\0.0 & 0.0 & 0.0 & 0.0 & 0.0 & 0.9048\\\\0.0 & 0.0 & 0.0 & 0.0 & 0.0 & 0.8607\\\\0.0 & 0.0 & 0.0 & 0.0 & 0.0 & 0.8187\\\\0.0 & 0.0 & 0.0 & 0.0 & 0.0 & 0.7788\\\\0.0 & 0.0 & 0.0 & 0.0 & 0.0 & 0.7408\\\\0.0 & 0.0 & 0.0 & 0.0 & 0.0 & 0.7047\\\\0.0 & 0.0 & 0.0 & 0.0 & 0.0 & 0.6703\\\\0.0 & 0.0 & 0.0 & 0.0 & 0.0 & 0.6376\\\\0.0 & 0.0 & 0.0 & 0.0 & 0.0 & 0.6065\\\\0.0 & 0.0 & 0.0 & 0.0 & 0.0 & 0.5769\\\\0.0 & 0.0 & 0.0 & 0.0 & 0.0 & 0.5488\\\\0.0 & 0.0 & 0.0 & 0.0 & 0.0 & 0.522\\\\0.0 & 0.0 & 0.0 & 0.0 & 0.0 & 0.4966\\\\0.0 & 0.0 & 0.0 & 0.0 & 0.0 & 0.4724\\\\0.0 & 0.0 & 0.0 & 0.0 & 0.0 & 0.4493\\\\0.0 & 0.0 & 0.0 & 0.0 & 0.0 & 0.4274\\\\0.0 & 0.0 & 0.0 & 0.0 & 0.0 & 0.4066\\\\0.0 & 0.0 & 0.0 & 0.0 & 0.0 & 0.3867\\\\0.0 & 0.0 & 0.0 & 0.0 & 0.0 & 0.3679\\end{matrix}\\right]$$"
      ],
      "text/plain": [
       "⎡0.0  0.0  0.0  0.0  0.0   1.0  ⎤\n",
       "⎢                               ⎥\n",
       "⎢0.0  0.0  0.0  0.0  0.0  0.9512⎥\n",
       "⎢                               ⎥\n",
       "⎢0.0  0.0  0.0  0.0  0.0  0.9048⎥\n",
       "⎢                               ⎥\n",
       "⎢0.0  0.0  0.0  0.0  0.0  0.8607⎥\n",
       "⎢                               ⎥\n",
       "⎢0.0  0.0  0.0  0.0  0.0  0.8187⎥\n",
       "⎢                               ⎥\n",
       "⎢0.0  0.0  0.0  0.0  0.0  0.7788⎥\n",
       "⎢                               ⎥\n",
       "⎢0.0  0.0  0.0  0.0  0.0  0.7408⎥\n",
       "⎢                               ⎥\n",
       "⎢0.0  0.0  0.0  0.0  0.0  0.7047⎥\n",
       "⎢                               ⎥\n",
       "⎢0.0  0.0  0.0  0.0  0.0  0.6703⎥\n",
       "⎢                               ⎥\n",
       "⎢0.0  0.0  0.0  0.0  0.0  0.6376⎥\n",
       "⎢                               ⎥\n",
       "⎢0.0  0.0  0.0  0.0  0.0  0.6065⎥\n",
       "⎢                               ⎥\n",
       "⎢0.0  0.0  0.0  0.0  0.0  0.5769⎥\n",
       "⎢                               ⎥\n",
       "⎢0.0  0.0  0.0  0.0  0.0  0.5488⎥\n",
       "⎢                               ⎥\n",
       "⎢0.0  0.0  0.0  0.0  0.0  0.522 ⎥\n",
       "⎢                               ⎥\n",
       "⎢0.0  0.0  0.0  0.0  0.0  0.4966⎥\n",
       "⎢                               ⎥\n",
       "⎢0.0  0.0  0.0  0.0  0.0  0.4724⎥\n",
       "⎢                               ⎥\n",
       "⎢0.0  0.0  0.0  0.0  0.0  0.4493⎥\n",
       "⎢                               ⎥\n",
       "⎢0.0  0.0  0.0  0.0  0.0  0.4274⎥\n",
       "⎢                               ⎥\n",
       "⎢0.0  0.0  0.0  0.0  0.0  0.4066⎥\n",
       "⎢                               ⎥\n",
       "⎢0.0  0.0  0.0  0.0  0.0  0.3867⎥\n",
       "⎢                               ⎥\n",
       "⎣0.0  0.0  0.0  0.0  0.0  0.3679⎦"
      ]
     },
     "execution_count": 202,
     "metadata": {},
     "output_type": "execute_result"
    }
   ],
   "source": [
    "grid[0] = [u(x, 0) for x in delta_x*np.arange(dims[1])]\n",
    "grid[0][1:dims[1]-1] = grid[0][1:dims[1]-1] + delta_x**2*forcing_term/2*np.ones((1, dims[1]-2))\n",
    "\n",
    "grid[:,0] = [u(0, t) for t in np.arange(dims[0])]\n",
    "grid[:,dims[1]-1] = [u(l, t) for t in delta_t*np.arange(dims[0])]\n",
    "sp.Matrix(np.round(grid, decimals=4))"
   ]
  },
  {
   "cell_type": "code",
   "execution_count": 205,
   "metadata": {},
   "outputs": [],
   "source": [
    "v[0][1:dims[1]-1] = v[0][1:dims[1]-1] + delta_x**2*forcing_term/2*np.ones((1, dims[1]-2))\n",
    "grid[1] = np.dot(np.dot(A_inv, C), grid[0])\n",
    "grid[i][dims[1]-1] = u(l, i*delta_t)\n",
    "grid[1].reshape(1, dims[1])\n",
    "for i in range(2, dims[0]):\n",
    "    grid[i] = np.dot(np.dot(A_inv, C), grid[i-1])\n",
    "    grid[i][dims[1]-1] = u(l, i*delta_t)\n",
    "    grid[i][1:dims[1]-1] = grid[i][1:dims[1]-1] + delta_x**2*forcing_term*np.ones((1, dims[1]-2))"
   ]
  },
  {
   "cell_type": "code",
   "execution_count": 206,
   "metadata": {},
   "outputs": [
    {
     "data": {
      "text/latex": [
       "$$\\left[\\begin{matrix}0.0 & 0.0 & 0.0 & 0.0 & 0.0 & 1.0\\\\0.0 & 0.00089 & 0.00621 & 0.04257 & 0.2918 & 1.0\\\\0.0 & 0.00523 & 0.02775 & 0.12692 & 0.43498 & 0.90484\\\\0.0 & 0.01498 & 0.06141 & 0.1995 & 0.49158 & 0.86071\\\\0.0 & 0.02908 & 0.09723 & 0.25285 & 0.52121 & 0.81873\\\\0.0 & 0.04493 & 0.13004 & 0.29173 & 0.5351 & 0.7788\\\\0.0 & 0.06042 & 0.15813 & 0.31966 & 0.53918 & 0.74082\\\\0.0 & 0.07436 & 0.18114 & 0.33919 & 0.53686 & 0.70469\\\\0.0 & 0.08622 & 0.19934 & 0.35216 & 0.53019 & 0.67032\\\\0.0 & 0.09588 & 0.21318 & 0.35995 & 0.52047 & 0.63763\\\\0.0 & 0.10343 & 0.2232 & 0.36361 & 0.50861 & 0.60653\\\\0.0 & 0.10906 & 0.22996 & 0.36397 & 0.49521 & 0.57695\\\\0.0 & 0.11301 & 0.23394 & 0.36168 & 0.48074 & 0.54881\\\\0.0 & 0.11551 & 0.23561 & 0.35727 & 0.46554 & 0.52205\\\\0.0 & 0.11679 & 0.23537 & 0.35117 & 0.44988 & 0.49659\\\\0.0 & 0.11704 & 0.23355 & 0.34376 & 0.43396 & 0.47237\\\\0.0 & 0.11645 & 0.23046 & 0.33531 & 0.41796 & 0.44933\\\\0.0 & 0.11516 & 0.22634 & 0.3261 & 0.40199 & 0.42741\\\\0.0 & 0.11332 & 0.22142 & 0.31632 & 0.38617 & 0.40657\\\\0.0 & 0.11104 & 0.21587 & 0.30614 & 0.37059 & 0.38674\\\\0.0 & 0.1084 & 0.20984 & 0.29572 & 0.3553 & 0.36788\\end{matrix}\\right]$$"
      ],
      "text/plain": [
       "⎡0.0    0.0      0.0      0.0      0.0      1.0  ⎤\n",
       "⎢                                                ⎥\n",
       "⎢0.0  0.00089  0.00621  0.04257  0.2918     1.0  ⎥\n",
       "⎢                                                ⎥\n",
       "⎢0.0  0.00523  0.02775  0.12692  0.43498  0.90484⎥\n",
       "⎢                                                ⎥\n",
       "⎢0.0  0.01498  0.06141  0.1995   0.49158  0.86071⎥\n",
       "⎢                                                ⎥\n",
       "⎢0.0  0.02908  0.09723  0.25285  0.52121  0.81873⎥\n",
       "⎢                                                ⎥\n",
       "⎢0.0  0.04493  0.13004  0.29173  0.5351   0.7788 ⎥\n",
       "⎢                                                ⎥\n",
       "⎢0.0  0.06042  0.15813  0.31966  0.53918  0.74082⎥\n",
       "⎢                                                ⎥\n",
       "⎢0.0  0.07436  0.18114  0.33919  0.53686  0.70469⎥\n",
       "⎢                                                ⎥\n",
       "⎢0.0  0.08622  0.19934  0.35216  0.53019  0.67032⎥\n",
       "⎢                                                ⎥\n",
       "⎢0.0  0.09588  0.21318  0.35995  0.52047  0.63763⎥\n",
       "⎢                                                ⎥\n",
       "⎢0.0  0.10343  0.2232   0.36361  0.50861  0.60653⎥\n",
       "⎢                                                ⎥\n",
       "⎢0.0  0.10906  0.22996  0.36397  0.49521  0.57695⎥\n",
       "⎢                                                ⎥\n",
       "⎢0.0  0.11301  0.23394  0.36168  0.48074  0.54881⎥\n",
       "⎢                                                ⎥\n",
       "⎢0.0  0.11551  0.23561  0.35727  0.46554  0.52205⎥\n",
       "⎢                                                ⎥\n",
       "⎢0.0  0.11679  0.23537  0.35117  0.44988  0.49659⎥\n",
       "⎢                                                ⎥\n",
       "⎢0.0  0.11704  0.23355  0.34376  0.43396  0.47237⎥\n",
       "⎢                                                ⎥\n",
       "⎢0.0  0.11645  0.23046  0.33531  0.41796  0.44933⎥\n",
       "⎢                                                ⎥\n",
       "⎢0.0  0.11516  0.22634  0.3261   0.40199  0.42741⎥\n",
       "⎢                                                ⎥\n",
       "⎢0.0  0.11332  0.22142  0.31632  0.38617  0.40657⎥\n",
       "⎢                                                ⎥\n",
       "⎢0.0  0.11104  0.21587  0.30614  0.37059  0.38674⎥\n",
       "⎢                                                ⎥\n",
       "⎣0.0  0.1084   0.20984  0.29572  0.3553   0.36788⎦"
      ]
     },
     "execution_count": 206,
     "metadata": {},
     "output_type": "execute_result"
    }
   ],
   "source": [
    "sp.Matrix(np.round(grid, decimals=5))"
   ]
  },
  {
   "cell_type": "code",
   "execution_count": 189,
   "metadata": {},
   "outputs": [
    {
     "data": {
      "image/png": "[encoded data removed]",
      "text/latex": [
       "$$\\left ( 3, \\quad 6\\right )$$"
      ],
      "text/plain": [
       "(3, 6)"
      ]
     },
     "execution_count": 189,
     "metadata": {},
     "output_type": "execute_result"
    }
   ],
   "source": [
    "dims"
   ]
  },
  {
   "cell_type": "code",
   "execution_count": null,
   "metadata": {},
   "outputs": [],
   "source": []
  }
 ],
 "metadata": {
  "kernelspec": {
   "display_name": "Python 3",
   "language": "python",
   "name": "python3"
  },
  "language_info": {
   "codemirror_mode": {
    "name": "ipython",
    "version": 3
   },
   "file_extension": ".py",
   "mimetype": "text/x-python",
   "name": "python",
   "nbconvert_exporter": "python",
   "pygments_lexer": "ipython3",
   "version": "3.6.5"
  }
 },
 "nbformat": 4,
 "nbformat_minor": 2
}
