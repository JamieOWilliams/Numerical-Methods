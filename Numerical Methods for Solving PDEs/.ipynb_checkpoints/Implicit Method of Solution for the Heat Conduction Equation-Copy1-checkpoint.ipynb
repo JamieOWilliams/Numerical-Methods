{
 "cells": [
  {
   "cell_type": "code",
   "execution_count": 1,
   "metadata": {},
   "outputs": [],
   "source": [
    "import numpy as np\n",
    "np.set_printoptions(suppress=True)\n",
    "import sympy as sp\n",
    "sp.init_printing(use_unicode=True)"
   ]
  },
  {
   "cell_type": "code",
   "execution_count": 219,
   "metadata": {},
   "outputs": [],
   "source": [
    "kappa = 1\n",
    "delta_x = 0.2\n",
    "delta_t = 0.02\n",
    "lam = kappa*delta_t/delta_x**2\n",
    "L = lam**2\n",
    "\n",
    "t_init = 0\n",
    "t_target = 0.04\n",
    "x_init = -0.2\n",
    "x_target = 1\n",
    "\n",
    "l = 1\n",
    "\n",
    "def u(x, t):\n",
    "    # The order in which these boundary conditions are defined is important!\n",
    "    if t == 0:\n",
    "        return x*(1-x)  \n",
    "    if x == l:\n",
    "        return 0\n",
    "    if x == 0:\n",
    "        return 0\n",
    "\n",
    "def du(x, t):\n",
    "    if t == 0:\n",
    "        return 0\n",
    "    if x == 0:\n",
    "        return 1\n",
    "    \n",
    "forcing_term = 0\n",
    "    \n",
    "dims = (int(np.round((t_target-t_init)/delta_t))+1, int(np.round((x_target-x_init)/delta_x+1)))"
   ]
  },
  {
   "cell_type": "code",
   "execution_count": 236,
   "metadata": {},
   "outputs": [
    {
     "data": {
      "text/latex": [
       "$$\\left[\\begin{matrix}-1.0 & 0.0 & 1.0 & 0.0 & 0.0 & 0.0 & 0.0\\\\-0.5 & 3.0 & -0.5 & 0.0 & 0.0 & 0.0 & 0.0\\\\0.0 & -0.5 & 3.0 & -0.5 & 0.0 & 0.0 & 0.0\\\\0.0 & 0.0 & -0.5 & 3.0 & -0.5 & 0.0 & 0.0\\\\0.0 & 0.0 & 0.0 & -0.5 & 3.0 & -0.5 & 0.0\\\\0.0 & 0.0 & 0.0 & 0.0 & -0.5 & 3.0 & -0.5\\\\0.0 & 0.0 & 0.0 & 0.0 & 0.0 & 0.0 & 1.0\\end{matrix}\\right]$$"
      ],
      "text/plain": [
       "⎡-1.0  0.0   1.0   0.0   0.0   0.0   0.0 ⎤\n",
       "⎢                                        ⎥\n",
       "⎢-0.5  3.0   -0.5  0.0   0.0   0.0   0.0 ⎥\n",
       "⎢                                        ⎥\n",
       "⎢0.0   -0.5  3.0   -0.5  0.0   0.0   0.0 ⎥\n",
       "⎢                                        ⎥\n",
       "⎢0.0   0.0   -0.5  3.0   -0.5  0.0   0.0 ⎥\n",
       "⎢                                        ⎥\n",
       "⎢0.0   0.0   0.0   -0.5  3.0   -0.5  0.0 ⎥\n",
       "⎢                                        ⎥\n",
       "⎢0.0   0.0   0.0   0.0   -0.5  3.0   -0.5⎥\n",
       "⎢                                        ⎥\n",
       "⎣0.0   0.0   0.0   0.0   0.0   0.0   1.0 ⎦"
      ]
     },
     "execution_count": 236,
     "metadata": {},
     "output_type": "execute_result"
    }
   ],
   "source": [
    "a = np.array([-lam, 2*(1+lam), -lam])\n",
    "A = np.eye(dims[1])\n",
    "for i in range(1, dims[1]-1):\n",
    "    A[i][i-1:i+2] = a\n",
    "A[0][0] = -1\n",
    "A[0][2] = 1\n",
    "A_inv = np.linalg.inv(A)\n",
    "sp.Matrix(A)"
   ]
  },
  {
   "cell_type": "code",
   "execution_count": 237,
   "metadata": {},
   "outputs": [
    {
     "data": {
      "text/latex": [
       "$$\\left[\\begin{matrix}0.0 & 0.0 & 0.0 & 0.0 & 0.0 & 0.0 & 0.0\\\\0.5 & 1.0 & 0.5 & 0.0 & 0.0 & 0.0 & 0.0\\\\0.0 & 0.5 & 1.0 & 0.5 & 0.0 & 0.0 & 0.0\\\\0.0 & 0.0 & 0.5 & 1.0 & 0.5 & 0.0 & 0.0\\\\0.0 & 0.0 & 0.0 & 0.5 & 1.0 & 0.5 & 0.0\\\\0.0 & 0.0 & 0.0 & 0.0 & 0.5 & 1.0 & 0.5\\\\0.0 & 0.0 & 0.0 & 0.0 & 0.0 & 0.0 & 1.0\\end{matrix}\\right]$$"
      ],
      "text/plain": [
       "⎡0.0  0.0  0.0  0.0  0.0  0.0  0.0⎤\n",
       "⎢                                 ⎥\n",
       "⎢0.5  1.0  0.5  0.0  0.0  0.0  0.0⎥\n",
       "⎢                                 ⎥\n",
       "⎢0.0  0.5  1.0  0.5  0.0  0.0  0.0⎥\n",
       "⎢                                 ⎥\n",
       "⎢0.0  0.0  0.5  1.0  0.5  0.0  0.0⎥\n",
       "⎢                                 ⎥\n",
       "⎢0.0  0.0  0.0  0.5  1.0  0.5  0.0⎥\n",
       "⎢                                 ⎥\n",
       "⎢0.0  0.0  0.0  0.0  0.5  1.0  0.5⎥\n",
       "⎢                                 ⎥\n",
       "⎣0.0  0.0  0.0  0.0  0.0  0.0  1.0⎦"
      ]
     },
     "execution_count": 237,
     "metadata": {},
     "output_type": "execute_result"
    }
   ],
   "source": [
    "b = np.array([lam, 2*(1-lam), lam])\n",
    "C = np.eye(dims[1])\n",
    "for i in range(1, dims[1]-1):\n",
    "    C[i][i-1:i+2] = b\n",
    "C[0][0] = 0\n",
    "sp.Matrix(C)"
   ]
  },
  {
   "cell_type": "code",
   "execution_count": 238,
   "metadata": {},
   "outputs": [],
   "source": [
    "grid = np.zeros(dims)"
   ]
  },
  {
   "cell_type": "code",
   "execution_count": 239,
   "metadata": {},
   "outputs": [
    {
     "data": {
      "text/latex": [
       "$$\\left[\\begin{matrix}-0.24 & 0.0 & 0.16 & 0.24 & 0.24 & 0.16 & 0.0\\\\0.0 & 0.0 & 0.0 & 0.0 & 0.0 & 0.0 & 0.0\\\\0.0 & 0.0 & 0.0 & 0.0 & 0.0 & 0.0 & 0.0\\end{matrix}\\right]$$"
      ],
      "text/plain": [
       "⎡-0.24  0.0  0.16  0.24  0.24  0.16  0.0⎤\n",
       "⎢                                       ⎥\n",
       "⎢ 0.0   0.0  0.0   0.0   0.0   0.0   0.0⎥\n",
       "⎢                                       ⎥\n",
       "⎣ 0.0   0.0  0.0   0.0   0.0   0.0   0.0⎦"
      ]
     },
     "execution_count": 239,
     "metadata": {},
     "output_type": "execute_result"
    }
   ],
   "source": [
    "grid[0] = [u(x, 0) for x in delta_x*np.arange(x_init/delta_x, dims[1]-1)]\n",
    "grid[0][1:dims[1]-1] = grid[0][1:dims[1]-1] + delta_x**2*forcing_term/2*np.ones((1, dims[1]-2))\n",
    "\n",
    "# grid[:,0] = [u(0, t) for t in np.arange(dims[0])]\n",
    "# grid[:,dims[1]-1] = [u(l, t) for t in delta_t*np.arange(dims[0])]\n",
    "sp.Matrix(np.round(grid, decimals=4))"
   ]
  },
  {
   "cell_type": "code",
   "execution_count": 243,
   "metadata": {},
   "outputs": [],
   "source": [
    "rhs = np.zeros((1, dims[1]))\n",
    "rhs[0][0] = u(0.2, 0) - u(-0.2, 0)\n",
    "for i in range(1, dims[0]):\n",
    "    grid[i] = A_inv.dot((C.dot(grid[i-1])+rhs).T).T"
   ]
  },
  {
   "cell_type": "code",
   "execution_count": 244,
   "metadata": {},
   "outputs": [
    {
     "data": {
      "text/latex": [
       "$$\\left[\\begin{matrix}-0.24 & 0.0 & 0.16 & 0.24 & 0.24 & 0.16 & 0.0\\\\-0.27996 & -0.03999 & 0.12004 & 0.2002 & 0.20118 & 0.12686 & 0.0\\\\-0.31972 & -0.07989 & 0.08028 & 0.16126 & 0.16569 & 0.10343 & 0.0\\end{matrix}\\right]$$"
      ],
      "text/plain": [
       "⎡ -0.24      0.0      0.16     0.24     0.24     0.16    0.0⎤\n",
       "⎢                                                           ⎥\n",
       "⎢-0.27996  -0.03999  0.12004  0.2002   0.20118  0.12686  0.0⎥\n",
       "⎢                                                           ⎥\n",
       "⎣-0.31972  -0.07989  0.08028  0.16126  0.16569  0.10343  0.0⎦"
      ]
     },
     "execution_count": 244,
     "metadata": {},
     "output_type": "execute_result"
    }
   ],
   "source": [
    "sp.Matrix(np.round(grid, decimals=5))"
   ]
  },
  {
   "cell_type": "code",
   "execution_count": null,
   "metadata": {},
   "outputs": [],
   "source": []
  }
 ],
 "metadata": {
  "kernelspec": {
   "display_name": "Python 3",
   "language": "python",
   "name": "python3"
  },
  "language_info": {
   "codemirror_mode": {
    "name": "ipython",
    "version": 3
   },
   "file_extension": ".py",
   "mimetype": "text/x-python",
   "name": "python",
   "nbconvert_exporter": "python",
   "pygments_lexer": "ipython3",
   "version": "3.6.5"
  }
 },
 "nbformat": 4,
 "nbformat_minor": 2
}
