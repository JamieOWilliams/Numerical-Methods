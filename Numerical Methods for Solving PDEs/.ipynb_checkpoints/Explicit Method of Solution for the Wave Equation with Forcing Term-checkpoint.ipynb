{
 "cells": [
  {
   "cell_type": "code",
   "execution_count": 79,
   "metadata": {},
   "outputs": [],
   "source": [
    "import numpy as np\n",
    "np.set_printoptions(suppress=True)"
   ]
  },
  {
   "cell_type": "code",
   "execution_count": 80,
   "metadata": {},
   "outputs": [],
   "source": [
    "c = 1\n",
    "delta_x = 0.2\n",
    "delta_t = 0.02\n",
    "lam = c*delta_t/delta_x\n",
    "\n",
    "t_target = 0.06\n",
    "\n",
    "a = 1\n",
    "l = 1\n",
    "w = 1/2*np.pi\n",
    "\n",
    "def u(x, t):\n",
    "    if x == 0:\n",
    "        return np.sin(delta_t*w*t)\n",
    "    if t == 0:\n",
    "        return 0\n",
    "    if x == l:\n",
    "        return 0\n",
    "\n",
    "def du(x, t):\n",
    "    if t == 0:\n",
    "        return 0\n",
    "    \n",
    "dims = (int(t_target/delta_t)+1, int(l/delta_x)+1)"
   ]
  },
  {
   "cell_type": "code",
   "execution_count": 81,
   "metadata": {},
   "outputs": [],
   "source": [
    "grid = np.zeros(dims)"
   ]
  },
  {
   "cell_type": "code",
   "execution_count": 82,
   "metadata": {},
   "outputs": [
    {
     "data": {
      "text/plain": [
       "array([[0.    , 0.    , 0.    , 0.    , 0.    , 0.    ],\n",
       "       [0.0314, 0.    , 0.    , 0.    , 0.    , 0.    ],\n",
       "       [0.0628, 0.    , 0.    , 0.    , 0.    , 0.    ],\n",
       "       [0.0941, 0.    , 0.    , 0.    , 0.    , 0.    ]])"
      ]
     },
     "execution_count": 82,
     "metadata": {},
     "output_type": "execute_result"
    }
   ],
   "source": [
    "grid[0] = [u(x, 0) for x in np.arange(dims[1])]\n",
    "grid[:,0] = [u(0, t) for t in np.arange(dims[0])]\n",
    "np.round(grid, decimals=4)"
   ]
  },
  {
   "cell_type": "code",
   "execution_count": 83,
   "metadata": {},
   "outputs": [
    {
     "data": {
      "text/plain": [
       "array([[0.        , 0.        , 0.        , 0.        , 0.        ,\n",
       "        0.        ],\n",
       "       [0.03141076, 0.        , 0.        , 0.        , 0.        ,\n",
       "        0.        ],\n",
       "       [0.06279052, 0.        , 0.        , 0.        , 0.        ,\n",
       "        0.        ],\n",
       "       [0.09410831, 0.        , 0.        , 0.        , 0.        ,\n",
       "        0.        ]])"
      ]
     },
     "execution_count": 83,
     "metadata": {},
     "output_type": "execute_result"
    }
   ],
   "source": [
    "grid[1][1:dims[1]-1] = [(1-lam**2)*grid[0][i] + 1/2*lam**2*(grid[0][i+1] + grid[0][i-1]) + delta_x*du(i, 0) for i in range(1, dims[1]-1)]\n",
    "np.round(grid, decimals=10)"
   ]
  },
  {
   "cell_type": "code",
   "execution_count": 84,
   "metadata": {},
   "outputs": [],
   "source": [
    "for j in range(2, dims[0]):\n",
    "    grid[j][1:dims[1]-1] = [2*grid[j-1][i]-grid[j-2][i]+lam**2*(grid[j-1][i+1]-2*grid[j-1][i]+grid[j-1][i-1]) for i in range(1, dims[1]-1)]"
   ]
  },
  {
   "cell_type": "code",
   "execution_count": 86,
   "metadata": {},
   "outputs": [
    {
     "data": {
      "text/plain": [
       "array([[0.       , 0.       , 0.       , 0.       , 0.       , 0.       ],\n",
       "       [0.0314108, 0.       , 0.       , 0.       , 0.       , 0.       ],\n",
       "       [0.0627905, 0.0003141, 0.       , 0.       , 0.       , 0.       ],\n",
       "       [0.0941083, 0.0012498, 0.0000031, 0.       , 0.       , 0.       ]])"
      ]
     },
     "execution_count": 86,
     "metadata": {},
     "output_type": "execute_result"
    }
   ],
   "source": [
    "np.round(grid, decimals=7)"
   ]
  },
  {
   "cell_type": "code",
   "execution_count": null,
   "metadata": {},
   "outputs": [],
   "source": []
  }
 ],
 "metadata": {
  "kernelspec": {
   "display_name": "Python 3",
   "language": "python",
   "name": "python3"
  },
  "language_info": {
   "codemirror_mode": {
    "name": "ipython",
    "version": 3
   },
   "file_extension": ".py",
   "mimetype": "text/x-python",
   "name": "python",
   "nbconvert_exporter": "python",
   "pygments_lexer": "ipython3",
   "version": "3.6.5"
  }
 },
 "nbformat": 4,
 "nbformat_minor": 2
}
