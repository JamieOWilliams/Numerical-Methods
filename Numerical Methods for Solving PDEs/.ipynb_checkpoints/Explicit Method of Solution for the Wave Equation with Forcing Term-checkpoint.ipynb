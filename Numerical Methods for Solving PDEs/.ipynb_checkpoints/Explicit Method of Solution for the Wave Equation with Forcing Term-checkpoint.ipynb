{
 "cells": [
  {
   "cell_type": "code",
   "execution_count": 170,
   "metadata": {},
   "outputs": [],
   "source": [
    "import numpy as np\n",
    "np.set_printoptions(suppress=True)"
   ]
  },
  {
   "cell_type": "code",
   "execution_count": 167,
   "metadata": {},
   "outputs": [],
   "source": [
    "c = 0.5\n",
    "delta_x = 0.2\n",
    "delta_t = 0.2\n",
    "lam = c*delta_t/delta_x\n",
    "L = lam**2\n",
    "\n",
    "t_init = 0\n",
    "t_target = 1\n",
    "x_init = -1\n",
    "x_targett\n",
    "\n",
    "a = 1\n",
    "l = 1\n",
    "w = 1/2*np.pi\n",
    "\n",
    "def u(x, t):\n",
    "    if x == 0:\n",
    "        return 0\n",
    "    if t == 0:\n",
    "        return x*(1-x)\n",
    "    if x == l:\n",
    "        return 0\n",
    "\n",
    "def du(x, t):\n",
    "    if t == 0:\n",
    "        return 0\n",
    "    \n",
    "forcing_term = 2\n",
    "    \n",
    "dims = (int(t_target/delta_t)+1, int(l/delta_x)+1)"
   ]
  },
  {
   "cell_type": "code",
   "execution_count": 168,
   "metadata": {},
   "outputs": [],
   "source": [
    "grid = np.zeros(dims)"
   ]
  },
  {
   "cell_type": "code",
   "execution_count": 169,
   "metadata": {},
   "outputs": [
    {
     "data": {
      "text/plain": [
       "array([[0.  , 0.2 , 0.28, 0.28, 0.2 , 0.  ],\n",
       "       [0.  , 0.  , 0.  , 0.  , 0.  , 0.  ],\n",
       "       [0.  , 0.  , 0.  , 0.  , 0.  , 0.  ],\n",
       "       [0.  , 0.  , 0.  , 0.  , 0.  , 0.  ],\n",
       "       [0.  , 0.  , 0.  , 0.  , 0.  , 0.  ],\n",
       "       [0.  , 0.  , 0.  , 0.  , 0.  , 0.  ]])"
      ]
     },
     "execution_count": 169,
     "metadata": {},
     "output_type": "execute_result"
    }
   ],
   "source": [
    "grid[0] = [u(x, 0) for x in delta_x*np.arange(dims[1])]\n",
    "grid[0][1:dims[1]-1] = grid[0][1:dims[1]-1] + delta_x**2*forcing_term/2*np.ones((1, dims[1]-2))\n",
    "grid[:,0] = [u(0, t) for t in np.arange(dims[0])]\n",
    "np.round(grid, decimals=4)"
   ]
  },
  {
   "cell_type": "code",
   "execution_count": 165,
   "metadata": {},
   "outputs": [
    {
     "data": {
      "text/plain": [
       "array([[0.  , 0.16, 0.24, 0.24, 0.16, 0.  ],\n",
       "       [0.  , 0.23, 0.31, 0.31, 0.23, 0.  ],\n",
       "       [0.  , 0.  , 0.  , 0.  , 0.  , 0.  ],\n",
       "       [0.  , 0.  , 0.  , 0.  , 0.  , 0.  ],\n",
       "       [0.  , 0.  , 0.  , 0.  , 0.  , 0.  ],\n",
       "       [0.  , 0.  , 0.  , 0.  , 0.  , 0.  ]])"
      ]
     },
     "execution_count": 165,
     "metadata": {},
     "output_type": "execute_result"
    }
   ],
   "source": [
    "grid[1][1:dims[1]-1] = [(1-L)*grid[0][i] + 1/2*L*(grid[0][i+1] + grid[0][i-1]) + delta_t*du(delta_x*i, 0) for i in range(1, dims[1]-1)]\n",
    "grid[1][1:dims[1]-1] = grid[1][1:dims[1]-1] + delta_x**2*forcing_term*np.ones((1, dims[1]-2))\n",
    "np.round(grid, decimals=10)"
   ]
  },
  {
   "cell_type": "code",
   "execution_count": 158,
   "metadata": {},
   "outputs": [],
   "source": [
    "for j in range(2, dims[0]):\n",
    "    grid[j][1:dims[1]-1] = [2*grid[j-1][i]-grid[j-2][i]+L*(grid[j-1][i+1]-2*grid[j-1][i]+grid[j-1][i-1]) for i in range(1, dims[1]-1)]\n",
    "    grid[j][1:dims[1]-1] = grid[j][1:dims[1]-1] + delta_x**2*forcing_term*np.ones((1, dims[1]-2))\n"
   ]
  },
  {
   "cell_type": "code",
   "execution_count": 159,
   "metadata": {},
   "outputs": [
    {
     "data": {
      "text/plain": [
       "array([[0.       , 0.2      , 0.28     , 0.28     , 0.2      , 0.       ],\n",
       "       [0.       , 0.265    , 0.35     , 0.35     , 0.265    , 0.       ],\n",
       "       [0.       , 0.365    , 0.47875  , 0.47875  , 0.365    , 0.       ],\n",
       "       [0.       , 0.4821875, 0.6590625, 0.6590625, 0.4821875, 0.       ],\n",
       "       [0.       , 0.6030469, 0.8751563, 0.8751563, 0.6030469, 0.       ],\n",
       "       [0.       , 0.7211719, 1.1032227, 1.1032227, 0.7211719, 0.       ]])"
      ]
     },
     "execution_count": 159,
     "metadata": {},
     "output_type": "execute_result"
    }
   ],
   "source": [
    "np.round(grid, decimals=7)"
   ]
  },
  {
   "cell_type": "code",
   "execution_count": null,
   "metadata": {},
   "outputs": [],
   "source": []
  }
 ],
 "metadata": {
  "kernelspec": {
   "display_name": "Python 3",
   "language": "python",
   "name": "python3"
  },
  "language_info": {
   "codemirror_mode": {
    "name": "ipython",
    "version": 3
   },
   "file_extension": ".py",
   "mimetype": "text/x-python",
   "name": "python",
   "nbconvert_exporter": "python",
   "pygments_lexer": "ipython3",
   "version": "3.6.5"
  }
 },
 "nbformat": 4,
 "nbformat_minor": 2
}
