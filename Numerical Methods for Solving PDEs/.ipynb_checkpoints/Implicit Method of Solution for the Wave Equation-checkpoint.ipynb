{
 "cells": [
  {
   "cell_type": "code",
   "execution_count": 112,
   "metadata": {},
   "outputs": [],
   "source": [
    "import numpy as np\n",
    "np.set_printoptions(suppress=True)"
   ]
  },
  {
   "cell_type": "code",
   "execution_count": 113,
   "metadata": {},
   "outputs": [],
   "source": [
    "c = 1\n",
    "delta_x = 0.25\n",
    "delta_t = 0.25\n",
    "lam = c*delta_t/delta_x\n",
    "L = 0.25#lam**2\n",
    "\n",
    "t_target = 1\n",
    "x_target = 1\n",
    "\n",
    "def cond_a(x, t):\n",
    "    return 0\n",
    "\n",
    "def cond_b(x, t):\n",
    "    return 0\n",
    "\n",
    "def cond_c(x, t):\n",
    "    if x <= (1/2)/delta_x:\n",
    "        return delta_x*x\n",
    "    else:\n",
    "        return delta_x*(1/delta_x-x)\n",
    "    \n",
    "dims = (int(t_target/delta_t), int(x_target/delta_x))"
   ]
  },
  {
   "cell_type": "code",
   "execution_count": 114,
   "metadata": {},
   "outputs": [],
   "source": [
    "a = np.array([-L, 2*(1+L), -L])\n",
    "A = np.eye(dims[1]+1)\n",
    "for i in range(1, dims[1]):\n",
    "    A[i][i-1:i+2] = a\n",
    "A_inv = np.linalg.inv(A)"
   ]
  },
  {
   "cell_type": "code",
   "execution_count": 115,
   "metadata": {},
   "outputs": [
    {
     "data": {
      "text/plain": [
       "array([[ 1.  ,  0.  ,  0.  ,  0.  ,  0.  ],\n",
       "       [-0.25,  2.5 , -0.25,  0.  ,  0.  ],\n",
       "       [ 0.  , -0.25,  2.5 , -0.25,  0.  ],\n",
       "       [ 0.  ,  0.  , -0.25,  2.5 , -0.25],\n",
       "       [ 0.  ,  0.  ,  0.  ,  0.  ,  1.  ]])"
      ]
     },
     "execution_count": 115,
     "metadata": {},
     "output_type": "execute_result"
    }
   ],
   "source": [
    "A"
   ]
  },
  {
   "cell_type": "code",
   "execution_count": 116,
   "metadata": {},
   "outputs": [],
   "source": [
    "b = np.array([L/2, 1-L, L/2])\n",
    "C = np.eye(dims[1]+1)\n",
    "for i in range(1, dims[1]):\n",
    "    C[i][i-1:i+2] = b"
   ]
  },
  {
   "cell_type": "code",
   "execution_count": 117,
   "metadata": {},
   "outputs": [
    {
     "data": {
      "text/plain": [
       "array([[1.   , 0.   , 0.   , 0.   , 0.   ],\n",
       "       [0.125, 0.75 , 0.125, 0.   , 0.   ],\n",
       "       [0.   , 0.125, 0.75 , 0.125, 0.   ],\n",
       "       [0.   , 0.   , 0.125, 0.75 , 0.125],\n",
       "       [0.   , 0.   , 0.   , 0.   , 1.   ]])"
      ]
     },
     "execution_count": 117,
     "metadata": {},
     "output_type": "execute_result"
    }
   ],
   "source": [
    "C"
   ]
  },
  {
   "cell_type": "code",
   "execution_count": 121,
   "metadata": {},
   "outputs": [
    {
     "name": "stdout",
     "output_type": "stream",
     "text": [
      "[[0 0 0 0 0]]\n",
      "[[0.     0.1224 0.2245 0.1224 0.    ]]\n",
      "[[0.     0.1741 0.2815 0.1741 0.    ]]\n",
      "[[0.     0.2077 0.2919 0.2077 0.    ]]\n",
      "[[0.     0.2127 0.263  0.2127 0.    ]]\n",
      "[[0.     0.1825 0.2068 0.1825 0.    ]]\n",
      "[[0.     0.119  0.1343 0.119  0.    ]]\n"
     ]
    }
   ],
   "source": [
    "u = np.array([[0, 0, 0, 0, 0]]).T\n",
    "print(u.T)\n",
    "v = np.dot(C, u) + delta_t*np.array([[cond_c(x, 0) for x in np.arange(5)]]).T\n",
    "w = 4*np.dot(A_inv, v)-u\n",
    "print(np.round(w.T, decimals=4))\n",
    "for i in range(5):\n",
    "    u = v\n",
    "    v = w\n",
    "    w = 4*np.dot(A_inv, v)-u\n",
    "    print(np.round(w.T, decimals=4))"
   ]
  },
  {
   "cell_type": "code",
   "execution_count": null,
   "metadata": {},
   "outputs": [],
   "source": [
    "# Rewrite this using a grid structure similar to the explicit method implementation."
   ]
  }
 ],
 "metadata": {
  "kernelspec": {
   "display_name": "Python 3",
   "language": "python",
   "name": "python3"
  },
  "language_info": {
   "codemirror_mode": {
    "name": "ipython",
    "version": 3
   },
   "file_extension": ".py",
   "mimetype": "text/x-python",
   "name": "python",
   "nbconvert_exporter": "python",
   "pygments_lexer": "ipython3",
   "version": "3.6.5"
  }
 },
 "nbformat": 4,
 "nbformat_minor": 2
}
