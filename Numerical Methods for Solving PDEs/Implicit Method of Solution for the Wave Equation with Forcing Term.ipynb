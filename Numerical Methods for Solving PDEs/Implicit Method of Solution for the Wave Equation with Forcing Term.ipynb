{
 "cells": [
  {
   "cell_type": "code",
   "execution_count": 263,
   "metadata": {},
   "outputs": [],
   "source": [
    "import numpy as np\n",
    "np.set_printoptions(suppress=True)\n",
    "import sympy as sp\n",
    "sp.init_printing(use_unicode=True)"
   ]
  },
  {
   "cell_type": "code",
   "execution_count": 279,
   "metadata": {},
   "outputs": [],
   "source": [
    "c = 0.5\n",
    "delta_x = 0.2\n",
    "delta_t = 0.2\n",
    "lam = c*delta_t/delta_x\n",
    "L = lam**2\n",
    "\n",
    "t_init = 0\n",
    "t_target = 1\n",
    "x_init = 0\n",
    "x_target = 2\n",
    "\n",
    "def u(x, t):\n",
    "    if x == 0:\n",
    "        return 0\n",
    "    if t == 0:\n",
    "        return x*(1-x)\n",
    "    if x == l:\n",
    "        return 0\n",
    "\n",
    "def du(x, t):\n",
    "    if t == 0:\n",
    "        return 0\n",
    "    \n",
    "forcing_term = 2\n",
    "  \n",
    "# Currently the forcing term is simply the constant function 2. To make this implementation more general a function called \n",
    "# \"forcing_term\" would be defined. Then the values of the function at each node would be calculated and added to the \n",
    "# solution grid\n",
    "\n",
    "# Example definition of forcing term function\n",
    "# def forcing_term(x, t):\n",
    "#     return 2\n",
    "    \n",
    "dims = (int(t_target/delta_t)+1, int((x_target-x_init)/delta_x)+1)"
   ]
  },
  {
   "cell_type": "code",
   "execution_count": 280,
   "metadata": {},
   "outputs": [
    {
     "data": {
      "text/latex": [
       "$$\\left[\\begin{array}{ccccccccccc}1.0 & 0.0 & 0.0 & 0.0 & 0.0 & 0.0 & 0.0 & 0.0 & 0.0 & 0.0 & 0.0\\\\-0.25 & 2.5 & -0.25 & 0.0 & 0.0 & 0.0 & 0.0 & 0.0 & 0.0 & 0.0 & 0.0\\\\0.0 & -0.25 & 2.5 & -0.25 & 0.0 & 0.0 & 0.0 & 0.0 & 0.0 & 0.0 & 0.0\\\\0.0 & 0.0 & -0.25 & 2.5 & -0.25 & 0.0 & 0.0 & 0.0 & 0.0 & 0.0 & 0.0\\\\0.0 & 0.0 & 0.0 & -0.25 & 2.5 & -0.25 & 0.0 & 0.0 & 0.0 & 0.0 & 0.0\\\\0.0 & 0.0 & 0.0 & 0.0 & -0.25 & 2.5 & -0.25 & 0.0 & 0.0 & 0.0 & 0.0\\\\0.0 & 0.0 & 0.0 & 0.0 & 0.0 & -0.25 & 2.5 & -0.25 & 0.0 & 0.0 & 0.0\\\\0.0 & 0.0 & 0.0 & 0.0 & 0.0 & 0.0 & -0.25 & 2.5 & -0.25 & 0.0 & 0.0\\\\0.0 & 0.0 & 0.0 & 0.0 & 0.0 & 0.0 & 0.0 & -0.25 & 2.5 & -0.25 & 0.0\\\\0.0 & 0.0 & 0.0 & 0.0 & 0.0 & 0.0 & 0.0 & 0.0 & -0.25 & 2.5 & -0.25\\\\0.0 & 0.0 & 0.0 & 0.0 & 0.0 & 0.0 & 0.0 & 0.0 & 0.0 & 0.0 & 1.0\\end{array}\\right]$$"
      ],
      "text/plain": [
       "⎡ 1.0    0.0    0.0    0.0    0.0    0.0    0.0    0.0    0.0    0.0    0.0 ⎤\n",
       "⎢                                                                           ⎥\n",
       "⎢-0.25   2.5   -0.25   0.0    0.0    0.0    0.0    0.0    0.0    0.0    0.0 ⎥\n",
       "⎢                                                                           ⎥\n",
       "⎢ 0.0   -0.25   2.5   -0.25   0.0    0.0    0.0    0.0    0.0    0.0    0.0 ⎥\n",
       "⎢                                                                           ⎥\n",
       "⎢ 0.0    0.0   -0.25   2.5   -0.25   0.0    0.0    0.0    0.0    0.0    0.0 ⎥\n",
       "⎢                                                                           ⎥\n",
       "⎢ 0.0    0.0    0.0   -0.25   2.5   -0.25   0.0    0.0    0.0    0.0    0.0 ⎥\n",
       "⎢                                                                           ⎥\n",
       "⎢ 0.0    0.0    0.0    0.0   -0.25   2.5   -0.25   0.0    0.0    0.0    0.0 ⎥\n",
       "⎢                                                                           ⎥\n",
       "⎢ 0.0    0.0    0.0    0.0    0.0   -0.25   2.5   -0.25   0.0    0.0    0.0 ⎥\n",
       "⎢                                                                           ⎥\n",
       "⎢ 0.0    0.0    0.0    0.0    0.0    0.0   -0.25   2.5   -0.25   0.0    0.0 ⎥\n",
       "⎢                                                                           ⎥\n",
       "⎢ 0.0    0.0    0.0    0.0    0.0    0.0    0.0   -0.25   2.5   -0.25   0.0 ⎥\n",
       "⎢                                                                           ⎥\n",
       "⎢ 0.0    0.0    0.0    0.0    0.0    0.0    0.0    0.0   -0.25   2.5   -0.25⎥\n",
       "⎢                                                                           ⎥\n",
       "⎣ 0.0    0.0    0.0    0.0    0.0    0.0    0.0    0.0    0.0    0.0    1.0 ⎦"
      ]
     },
     "execution_count": 280,
     "metadata": {},
     "output_type": "execute_result"
    }
   ],
   "source": [
    "a = np.array([-L, 2*(1+L), -L])\n",
    "A = np.eye(dims[1])\n",
    "for i in range(1, dims[1]-1):\n",
    "    A[i][i-1:i+2] = a\n",
    "A_inv = np.linalg.inv(A)\n",
    "sp.Matrix(A)"
   ]
  },
  {
   "cell_type": "code",
   "execution_count": 281,
   "metadata": {},
   "outputs": [
    {
     "data": {
      "text/latex": [
       "$$\\left[\\begin{array}{ccccccccccc}1.0 & 0.0 & 0.0 & 0.0 & 0.0 & 0.0 & 0.0 & 0.0 & 0.0 & 0.0 & 0.0\\\\0.125 & 0.75 & 0.125 & 0.0 & 0.0 & 0.0 & 0.0 & 0.0 & 0.0 & 0.0 & 0.0\\\\0.0 & 0.125 & 0.75 & 0.125 & 0.0 & 0.0 & 0.0 & 0.0 & 0.0 & 0.0 & 0.0\\\\0.0 & 0.0 & 0.125 & 0.75 & 0.125 & 0.0 & 0.0 & 0.0 & 0.0 & 0.0 & 0.0\\\\0.0 & 0.0 & 0.0 & 0.125 & 0.75 & 0.125 & 0.0 & 0.0 & 0.0 & 0.0 & 0.0\\\\0.0 & 0.0 & 0.0 & 0.0 & 0.125 & 0.75 & 0.125 & 0.0 & 0.0 & 0.0 & 0.0\\\\0.0 & 0.0 & 0.0 & 0.0 & 0.0 & 0.125 & 0.75 & 0.125 & 0.0 & 0.0 & 0.0\\\\0.0 & 0.0 & 0.0 & 0.0 & 0.0 & 0.0 & 0.125 & 0.75 & 0.125 & 0.0 & 0.0\\\\0.0 & 0.0 & 0.0 & 0.0 & 0.0 & 0.0 & 0.0 & 0.125 & 0.75 & 0.125 & 0.0\\\\0.0 & 0.0 & 0.0 & 0.0 & 0.0 & 0.0 & 0.0 & 0.0 & 0.125 & 0.75 & 0.125\\\\0.0 & 0.0 & 0.0 & 0.0 & 0.0 & 0.0 & 0.0 & 0.0 & 0.0 & 0.0 & 1.0\\end{array}\\right]$$"
      ],
      "text/plain": [
       "⎡ 1.0    0.0    0.0    0.0    0.0    0.0    0.0    0.0    0.0    0.0    0.0 ⎤\n",
       "⎢                                                                           ⎥\n",
       "⎢0.125  0.75   0.125   0.0    0.0    0.0    0.0    0.0    0.0    0.0    0.0 ⎥\n",
       "⎢                                                                           ⎥\n",
       "⎢ 0.0   0.125  0.75   0.125   0.0    0.0    0.0    0.0    0.0    0.0    0.0 ⎥\n",
       "⎢                                                                           ⎥\n",
       "⎢ 0.0    0.0   0.125  0.75   0.125   0.0    0.0    0.0    0.0    0.0    0.0 ⎥\n",
       "⎢                                                                           ⎥\n",
       "⎢ 0.0    0.0    0.0   0.125  0.75   0.125   0.0    0.0    0.0    0.0    0.0 ⎥\n",
       "⎢                                                                           ⎥\n",
       "⎢ 0.0    0.0    0.0    0.0   0.125  0.75   0.125   0.0    0.0    0.0    0.0 ⎥\n",
       "⎢                                                                           ⎥\n",
       "⎢ 0.0    0.0    0.0    0.0    0.0   0.125  0.75   0.125   0.0    0.0    0.0 ⎥\n",
       "⎢                                                                           ⎥\n",
       "⎢ 0.0    0.0    0.0    0.0    0.0    0.0   0.125  0.75   0.125   0.0    0.0 ⎥\n",
       "⎢                                                                           ⎥\n",
       "⎢ 0.0    0.0    0.0    0.0    0.0    0.0    0.0   0.125  0.75   0.125   0.0 ⎥\n",
       "⎢                                                                           ⎥\n",
       "⎢ 0.0    0.0    0.0    0.0    0.0    0.0    0.0    0.0   0.125  0.75   0.125⎥\n",
       "⎢                                                                           ⎥\n",
       "⎣ 0.0    0.0    0.0    0.0    0.0    0.0    0.0    0.0    0.0    0.0    1.0 ⎦"
      ]
     },
     "execution_count": 281,
     "metadata": {},
     "output_type": "execute_result"
    }
   ],
   "source": [
    "b = np.array([L/2, 1-L, L/2])\n",
    "C = np.eye(dims[1])\n",
    "for i in range(1, dims[1]-1):\n",
    "    C[i][i-1:i+2] = b\n",
    "sp.Matrix(C)"
   ]
  },
  {
   "cell_type": "code",
   "execution_count": 282,
   "metadata": {},
   "outputs": [],
   "source": [
    "grid = np.zeros((dims[0], dims[1]))"
   ]
  },
  {
   "cell_type": "code",
   "execution_count": 283,
   "metadata": {},
   "outputs": [],
   "source": [
    "grid[0] = [u(x, 0) for x in delta_x*np.arange(dims[1])]\n",
    "grid[0][1:dims[1]-1] = grid[0][1:dims[1]-1] + delta_x**2*forcing_term/2*np.ones((1, dims[1]-2))"
   ]
  },
  {
   "cell_type": "code",
   "execution_count": 284,
   "metadata": {},
   "outputs": [],
   "source": [
    "v = np.dot(C, grid[0].T).reshape(1, dims[1]) + delta_t*np.array([[du(x, 0) for x in np.arange(dims[1])]])\n",
    "v[0][1:dims[1]-1] = v[0][1:dims[1]-1] + delta_x**2*forcing_term/2*np.ones((1, dims[1]-2))\n",
    "grid[1] = (4*np.dot(A_inv, v.T) - grid[0].reshape(dims[1], 1)).T\n",
    "grid[1].reshape(1, dims[1])\n",
    "for i in range(2, dims[0]):\n",
    "    grid[i] = 4*np.dot(A_inv, grid[i-1]) - grid[i-2]\n",
    "    grid[i][1:dims[1]-1] = grid[i][1:dims[1]-1] + delta_x**2*forcing_term*np.ones((1, dims[1]-2))"
   ]
  },
  {
   "cell_type": "code",
   "execution_count": 285,
   "metadata": {},
   "outputs": [
    {
     "data": {
      "text/latex": [
       "$$\\left[\\begin{array}{ccccccccccc}0.0 & 0.2 & 0.28 & 0.28 & 0.2 & 0.04 & -0.2 & -0.52 & -0.92 & -1.4 & -2.0\\\\0.0 & 0.2198 & 0.318 & 0.3198 & 0.24 & 0.08 & -0.1604 & -0.4843 & -0.9229 & -1.7843 & -6.0\\\\0.0 & 0.2929 & 0.4119 & 0.4188 & 0.3398 & 0.1794 & -0.065 & -0.422 & -1.1255 & -3.9874 & -22.0\\\\0.0 & 0.4083 & 0.5575 & 0.5758 & 0.4988 & 0.3356 & 0.0662 & -0.474 & -2.4544 & -13.6613 & -82.0\\\\0.0 & 0.5485 & 0.7488 & 0.7879 & 0.7143 & 0.5346 & 0.1418 & -1.2229 & -8.4564 & -51.5568 & -306.0\\\\0.0 & 0.6948 & 0.9776 & 1.0498 & 0.976 & 0.717 & -0.2091 & -4.9165 & -32.3811 & -194.6412 & -1142.0\\end{array}\\right]$$"
      ],
      "text/plain": [
       "⎡0.0   0.2     0.28    0.28    0.2     0.04    -0.2     -0.52    -0.92      -1\n",
       "⎢                                                                             \n",
       "⎢0.0  0.2198  0.318   0.3198   0.24    0.08   -0.1604  -0.4843  -0.9229    -1.\n",
       "⎢                                                                             \n",
       "⎢0.0  0.2929  0.4119  0.4188  0.3398  0.1794  -0.065   -0.422   -1.1255    -3.\n",
       "⎢                                                                             \n",
       "⎢0.0  0.4083  0.5575  0.5758  0.4988  0.3356  0.0662   -0.474   -2.4544   -13.\n",
       "⎢                                                                             \n",
       "⎢0.0  0.5485  0.7488  0.7879  0.7143  0.5346  0.1418   -1.2229  -8.4564   -51.\n",
       "⎢                                                                             \n",
       "⎣0.0  0.6948  0.9776  1.0498  0.976   0.717   -0.2091  -4.9165  -32.3811  -194\n",
       "\n",
       ".4      -2.0  ⎤\n",
       "              ⎥\n",
       "7843    -6.0  ⎥\n",
       "              ⎥\n",
       "9874    -22.0 ⎥\n",
       "              ⎥\n",
       "6613    -82.0 ⎥\n",
       "              ⎥\n",
       "5568   -306.0 ⎥\n",
       "              ⎥\n",
       ".6412  -1142.0⎦"
      ]
     },
     "execution_count": 285,
     "metadata": {},
     "output_type": "execute_result"
    }
   ],
   "source": [
    "sp.Matrix(np.round(grid, decimals=4))"
   ]
  },
  {
   "cell_type": "code",
   "execution_count": null,
   "metadata": {},
   "outputs": [],
   "source": []
  }
 ],
 "metadata": {
  "kernelspec": {
   "display_name": "Python 3",
   "language": "python",
   "name": "python3"
  },
  "language_info": {
   "codemirror_mode": {
    "name": "ipython",
    "version": 3
   },
   "file_extension": ".py",
   "mimetype": "text/x-python",
   "name": "python",
   "nbconvert_exporter": "python",
   "pygments_lexer": "ipython3",
   "version": "3.6.5"
  }
 },
 "nbformat": 4,
 "nbformat_minor": 2
}
