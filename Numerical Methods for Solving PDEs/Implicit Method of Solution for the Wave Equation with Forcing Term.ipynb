{
 "cells": [
  {
   "cell_type": "code",
   "execution_count": 3,
   "metadata": {},
   "outputs": [],
   "source": [
    "import numpy as np\n",
    "np.set_printoptions(suppress=True)"
   ]
  },
  {
   "cell_type": "code",
   "execution_count": 113,
   "metadata": {},
   "outputs": [],
   "source": [
    "c = 0.5\n",
    "delta_x = 0.2\n",
    "delta_t = 0.2\n",
    "lam = c*delta_t/delta_x\n",
    "L = lam**2\n",
    "\n",
    "t_target = 1\n",
    "x_target = 1\n",
    "\n",
    "def u(x, t):\n",
    "    if x == 0:\n",
    "        return 0\n",
    "    if t == 0:\n",
    "        return x*(1-x)\n",
    "    if x == l:\n",
    "        return 0\n",
    "\n",
    "def du(x, t):\n",
    "    if t == 0:\n",
    "        return 0\n",
    "    \n",
    "forcing_term = 2\n",
    "  \n",
    "# Currently the forcing term is simply the constant function 2. To make this implementation more general a function called \n",
    "# \"forcing_term\" would be defined. Then the values of the function at each node would be calculated and added to the \n",
    "# solution grid\n",
    "\n",
    "# Example definition of forcing term function\n",
    "# def forcing_term(x, t):\n",
    "#     return 2\n",
    "    \n",
    "dims = (int(t_target/delta_t)+1, int(x_target/delta_x)+1)"
   ]
  },
  {
   "cell_type": "code",
   "execution_count": 122,
   "metadata": {},
   "outputs": [
    {
     "name": "stdout",
     "output_type": "stream",
     "text": [
      "[[ 1.    0.    0.    0.    0.    0.  ]\n",
      " [-0.25  2.5  -0.25  0.    0.    0.  ]\n",
      " [ 0.   -0.25  2.5  -0.25  0.    0.  ]\n",
      " [ 0.    0.   -0.25  2.5  -0.25  0.  ]\n",
      " [ 0.    0.    0.   -0.25  2.5  -0.25]\n",
      " [ 0.    0.    0.    0.    0.    1.  ]]\n"
     ]
    }
   ],
   "source": [
    "a = np.array([-L, 2*(1+L), -L])\n",
    "A = np.eye(dims[1])\n",
    "for i in range(1, dims[1]-1):\n",
    "    A[i][i-1:i+2] = a\n",
    "A_inv = np.linalg.inv(A)\n",
    "print(A)"
   ]
  },
  {
   "cell_type": "code",
   "execution_count": 123,
   "metadata": {},
   "outputs": [
    {
     "name": "stdout",
     "output_type": "stream",
     "text": [
      "[[1.    0.    0.    0.    0.    0.   ]\n",
      " [0.125 0.75  0.125 0.    0.    0.   ]\n",
      " [0.    0.125 0.75  0.125 0.    0.   ]\n",
      " [0.    0.    0.125 0.75  0.125 0.   ]\n",
      " [0.    0.    0.    0.125 0.75  0.125]\n",
      " [0.    0.    0.    0.    0.    1.   ]]\n"
     ]
    }
   ],
   "source": [
    "b = np.array([L/2, 1-L, L/2])\n",
    "C = np.eye(dims[1])\n",
    "for i in range(1, dims[1]-1):\n",
    "    C[i][i-1:i+2] = b\n",
    "print(C)"
   ]
  },
  {
   "cell_type": "code",
   "execution_count": 124,
   "metadata": {},
   "outputs": [],
   "source": [
    "grid = np.zeros(dims)"
   ]
  },
  {
   "cell_type": "code",
   "execution_count": 125,
   "metadata": {},
   "outputs": [],
   "source": [
    "grid[0] = [u(x, 0) for x in delta_x*np.arange(dims[1])]\n",
    "grid[0][1:dims[1]-1] = grid[0][1:dims[1]-1] + delta_x**2*forcing_term/2*np.ones((1, dims[1]-2))"
   ]
  },
  {
   "cell_type": "code",
   "execution_count": 126,
   "metadata": {},
   "outputs": [],
   "source": [
    "v = np.dot(C, grid[0].T).reshape(1, 6) + delta_t*np.array([[du(x, 0) for x in np.arange(dims[1])]])\n",
    "v[0][1:dims[1]-1] = v[0][1:dims[1]-1] + delta_x**2*forcing_term/2*np.ones((1, dims[1]-2))\n",
    "grid[1] = (4*np.dot(A_inv, v.T) - grid[0].reshape(6, 1)).T\n",
    "grid[1].reshape(1, 6)\n",
    "for i in range(2, dims[0]):\n",
    "    grid[i] = 4*np.dot(A_inv, grid[i-1]) - grid[i-2]\n",
    "    grid[i][1:dims[1]-1] = grid[i][1:dims[1]-1] + delta_x**2*forcing_term*np.ones((1, dims[1]-2))"
   ]
  },
  {
   "cell_type": "code",
   "execution_count": 127,
   "metadata": {},
   "outputs": [
    {
     "name": "stdout",
     "output_type": "stream",
     "text": [
      "[[0.     0.2    0.28   0.28   0.2    0.    ]\n",
      " [0.     0.2198 0.3178 0.3178 0.2198 0.    ]\n",
      " [0.     0.2927 0.4108 0.4108 0.2927 0.    ]\n",
      " [0.     0.4077 0.5533 0.5533 0.4077 0.    ]\n",
      " [0.     0.5464 0.7372 0.7372 0.5464 0.    ]\n",
      " [0.     0.6889 0.9503 0.9503 0.6889 0.    ]]\n"
     ]
    }
   ],
   "source": [
    "print(np.round(grid, decimals=4))"
   ]
  },
  {
   "cell_type": "code",
   "execution_count": null,
   "metadata": {},
   "outputs": [],
   "source": []
  }
 ],
 "metadata": {
  "kernelspec": {
   "display_name": "Python 3",
   "language": "python",
   "name": "python3"
  },
  "language_info": {
   "codemirror_mode": {
    "name": "ipython",
    "version": 3
   },
   "file_extension": ".py",
   "mimetype": "text/x-python",
   "name": "python",
   "nbconvert_exporter": "python",
   "pygments_lexer": "ipython3",
   "version": "3.6.5"
  }
 },
 "nbformat": 4,
 "nbformat_minor": 2
}
