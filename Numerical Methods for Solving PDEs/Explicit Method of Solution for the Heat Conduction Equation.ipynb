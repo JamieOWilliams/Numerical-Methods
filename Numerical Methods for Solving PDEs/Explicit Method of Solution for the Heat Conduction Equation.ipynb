{
 "cells": [
  {
   "cell_type": "code",
   "execution_count": 1,
   "metadata": {},
   "outputs": [],
   "source": [
    "import numpy as np\n",
    "np.set_printoptions(suppress=True)\n",
    "import sympy as sp\n",
    "sp.init_printing(use_unicode=True)"
   ]
  },
  {
   "cell_type": "code",
   "execution_count": 81,
   "metadata": {},
   "outputs": [],
   "source": [
    "kappa = 1\n",
    "delta_x = 0.2\n",
    "delta_t = 0.02\n",
    "lam = kappa*delta_t/delta_x**2\n",
    "L = lam**2\n",
    "\n",
    "t_init = 0\n",
    "t_target = 0.06\n",
    "x_init = 0\n",
    "x_target = 1\n",
    "\n",
    "l = 1\n",
    "\n",
    "def u(x, t):\n",
    "    if x == 0:\n",
    "        return 0\n",
    "    if t == 0:\n",
    "        return x**2\n",
    "    if x == l:\n",
    "        return 1\n",
    "\n",
    "def du(x, t):\n",
    "    if t == 0:\n",
    "        return 0\n",
    "    \n",
    "forcing_term = 0\n",
    "    \n",
    "dims = (int((t_target-t_init)/delta_t)+1, int((x_target-x_init)/delta_x)+1)"
   ]
  },
  {
   "cell_type": "code",
   "execution_count": 82,
   "metadata": {},
   "outputs": [],
   "source": [
    "grid = np.zeros(dims)"
   ]
  },
  {
   "cell_type": "code",
   "execution_count": 83,
   "metadata": {},
   "outputs": [
    {
     "data": {
      "text/latex": [
       "$$\\left[\\begin{matrix}0.0 & 0.04 & 0.16 & 0.36 & 0.64 & 1.0\\\\0.0 & 0.0 & 0.0 & 0.0 & 0.0 & 1.0\\\\0.0 & 0.0 & 0.0 & 0.0 & 0.0 & 1.0\\\\0.0 & 0.0 & 0.0 & 0.0 & 0.0 & 1.0\\end{matrix}\\right]$$"
      ],
      "text/plain": [
       "⎡0.0  0.04  0.16  0.36  0.64  1.0⎤\n",
       "⎢                                ⎥\n",
       "⎢0.0  0.0   0.0   0.0   0.0   1.0⎥\n",
       "⎢                                ⎥\n",
       "⎢0.0  0.0   0.0   0.0   0.0   1.0⎥\n",
       "⎢                                ⎥\n",
       "⎣0.0  0.0   0.0   0.0   0.0   1.0⎦"
      ]
     },
     "execution_count": 83,
     "metadata": {},
     "output_type": "execute_result"
    }
   ],
   "source": [
    "grid[0] = [u(x, 0) for x in delta_x*np.arange(dims[1])]\n",
    "grid[0][1:dims[1]-1] = grid[0][1:dims[1]-1] + delta_x**2*forcing_term/2*np.ones((1, dims[1]-2))\n",
    "\n",
    "grid[:,0] = [u(0, t) for t in np.arange(dims[0])]\n",
    "grid[:,dims[1]-1] = [u(l, t) for t in np.arange(dims[0])]\n",
    "sp.Matrix(np.round(grid, decimals=5))"
   ]
  },
  {
   "cell_type": "code",
   "execution_count": 84,
   "metadata": {},
   "outputs": [
    {
     "data": {
      "text/latex": [
       "$$\\left[\\begin{matrix}0.0 & 0.04 & 0.16 & 0.36 & 0.64 & 1.0\\\\0.0 & 0.08 & 0.2 & 0.4 & 0.68 & 1.0\\\\0.0 & 0.1 & 0.24 & 0.44 & 0.7 & 1.0\\\\0.0 & 0.12 & 0.27 & 0.47 & 0.72 & 1.0\\end{matrix}\\right]$$"
      ],
      "text/plain": [
       "⎡0.0  0.04  0.16  0.36  0.64  1.0⎤\n",
       "⎢                                ⎥\n",
       "⎢0.0  0.08  0.2   0.4   0.68  1.0⎥\n",
       "⎢                                ⎥\n",
       "⎢0.0  0.1   0.24  0.44  0.7   1.0⎥\n",
       "⎢                                ⎥\n",
       "⎣0.0  0.12  0.27  0.47  0.72  1.0⎦"
      ]
     },
     "execution_count": 84,
     "metadata": {},
     "output_type": "execute_result"
    }
   ],
   "source": [
    "for j in range(1, dims[0]):\n",
    "    grid[j][1:dims[1]-1] = [lam*(grid[j-1][i-1] + grid[j-1][i+1]) + (1-2*lam)*grid[j-1][i] for i in range(1, dims[1]-1)]\n",
    "sp.Matrix(np.round(grid, decimals=5))"
   ]
  },
  {
   "cell_type": "code",
   "execution_count": null,
   "metadata": {},
   "outputs": [],
   "source": []
  }
 ],
 "metadata": {
  "kernelspec": {
   "display_name": "Python 3",
   "language": "python",
   "name": "python3"
  },
  "language_info": {
   "codemirror_mode": {
    "name": "ipython",
    "version": 3
   },
   "file_extension": ".py",
   "mimetype": "text/x-python",
   "name": "python",
   "nbconvert_exporter": "python",
   "pygments_lexer": "ipython3",
   "version": "3.6.5"
  }
 },
 "nbformat": 4,
 "nbformat_minor": 2
}
