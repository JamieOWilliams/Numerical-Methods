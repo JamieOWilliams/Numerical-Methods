{
 "cells": [
  {
   "cell_type": "code",
   "execution_count": 185,
   "metadata": {},
   "outputs": [],
   "source": [
    "import numpy as np\n",
    "np.set_printoptions(suppress=True)\n",
    "import sympy as sp\n",
    "sp.init_printing(use_unicode=True)"
   ]
  },
  {
   "cell_type": "code",
   "execution_count": 188,
   "metadata": {},
   "outputs": [],
   "source": [
    "c = 0.5\n",
    "delta_x = 0.2\n",
    "delta_t = 0.2\n",
    "lam = c*delta_t/delta_x\n",
    "L = lam**2\n",
    "\n",
    "t_init = 0\n",
    "t_target = 1\n",
    "x_init = -1\n",
    "x_target = 2\n",
    "\n",
    "a = 1\n",
    "l = 1\n",
    "w = 1/2*np.pi\n",
    "\n",
    "def u(x, t):\n",
    "    if x == 0:\n",
    "        return 0\n",
    "    if t == 0:\n",
    "        return x*(1-x)\n",
    "    if x == l:\n",
    "        return 0\n",
    "\n",
    "def du(x, t):\n",
    "    if t == 0:\n",
    "        return 0\n",
    "    \n",
    "forcing_term = 2\n",
    "    \n",
    "dims = (int((t_target-t_init)/delta_t)+1, int((x_target-x_init)/delta_x)+1)"
   ]
  },
  {
   "cell_type": "code",
   "execution_count": 189,
   "metadata": {},
   "outputs": [],
   "source": [
    "grid = np.zeros(dims)"
   ]
  },
  {
   "cell_type": "code",
   "execution_count": 190,
   "metadata": {},
   "outputs": [
    {
     "data": {
      "text/latex": [
       "$$\\left[\\begin{array}{cccccccccccccccc}0.0 & 0.2 & 0.28 & 0.28 & 0.2 & 0.04 & -0.2 & -0.52 & -0.92 & -1.4 & -1.96 & -2.6 & -3.32 & -4.12 & -5.0 & -6.0\\\\0.0 & 0.0 & 0.0 & 0.0 & 0.0 & 0.0 & 0.0 & 0.0 & 0.0 & 0.0 & 0.0 & 0.0 & 0.0 & 0.0 & 0.0 & 0.0\\\\0.0 & 0.0 & 0.0 & 0.0 & 0.0 & 0.0 & 0.0 & 0.0 & 0.0 & 0.0 & 0.0 & 0.0 & 0.0 & 0.0 & 0.0 & 0.0\\\\0.0 & 0.0 & 0.0 & 0.0 & 0.0 & 0.0 & 0.0 & 0.0 & 0.0 & 0.0 & 0.0 & 0.0 & 0.0 & 0.0 & 0.0 & 0.0\\\\0.0 & 0.0 & 0.0 & 0.0 & 0.0 & 0.0 & 0.0 & 0.0 & 0.0 & 0.0 & 0.0 & 0.0 & 0.0 & 0.0 & 0.0 & 0.0\\\\0.0 & 0.0 & 0.0 & 0.0 & 0.0 & 0.0 & 0.0 & 0.0 & 0.0 & 0.0 & 0.0 & 0.0 & 0.0 & 0.0 & 0.0 & 0.0\\end{array}\\right]$$"
      ],
      "text/plain": [
       "⎡0.0  0.2  0.28  0.28  0.2  0.04  -0.2  -0.52  -0.92  -1.4  -1.96  -2.6  -3.32\n",
       "⎢                                                                             \n",
       "⎢0.0  0.0  0.0   0.0   0.0  0.0   0.0    0.0    0.0   0.0    0.0   0.0    0.0 \n",
       "⎢                                                                             \n",
       "⎢0.0  0.0  0.0   0.0   0.0  0.0   0.0    0.0    0.0   0.0    0.0   0.0    0.0 \n",
       "⎢                                                                             \n",
       "⎢0.0  0.0  0.0   0.0   0.0  0.0   0.0    0.0    0.0   0.0    0.0   0.0    0.0 \n",
       "⎢                                                                             \n",
       "⎢0.0  0.0  0.0   0.0   0.0  0.0   0.0    0.0    0.0   0.0    0.0   0.0    0.0 \n",
       "⎢                                                                             \n",
       "⎣0.0  0.0  0.0   0.0   0.0  0.0   0.0    0.0    0.0   0.0    0.0   0.0    0.0 \n",
       "\n",
       "  -4.12  -5.0  -6.0⎤\n",
       "                   ⎥\n",
       "   0.0   0.0   0.0 ⎥\n",
       "                   ⎥\n",
       "   0.0   0.0   0.0 ⎥\n",
       "                   ⎥\n",
       "   0.0   0.0   0.0 ⎥\n",
       "                   ⎥\n",
       "   0.0   0.0   0.0 ⎥\n",
       "                   ⎥\n",
       "   0.0   0.0   0.0 ⎦"
      ]
     },
     "execution_count": 190,
     "metadata": {},
     "output_type": "execute_result"
    }
   ],
   "source": [
    "grid[0] = [u(x, 0) for x in delta_x*np.arange(dims[1])]\n",
    "grid[0][1:dims[1]-1] = grid[0][1:dims[1]-1] + delta_x**2*forcing_term/2*np.ones((1, dims[1]-2))\n",
    "grid[:,0] = [u(0, t) for t in np.arange(dims[0])]\n",
    "sp.Matrix(np.round(grid, decimals=3))"
   ]
  },
  {
   "cell_type": "code",
   "execution_count": 191,
   "metadata": {},
   "outputs": [
    {
     "data": {
      "text/latex": [
       "$$\\left[\\begin{array}{cccccccccccccccc}0.0 & 0.2 & 0.28 & 0.28 & 0.2 & 0.04 & -0.2 & -0.52 & -0.92 & -1.4 & -1.96 & -2.6 & -3.32 & -4.12 & -5.0 & -6.0\\\\0.0 & 0.265 & 0.35 & 0.35 & 0.27 & 0.11 & -0.13 & -0.45 & -0.85 & -1.33 & -1.89 & -2.53 & -3.25 & -4.05 & -4.935 & 0.0\\\\0.0 & 0.0 & 0.0 & 0.0 & 0.0 & 0.0 & 0.0 & 0.0 & 0.0 & 0.0 & 0.0 & 0.0 & 0.0 & 0.0 & 0.0 & 0.0\\\\0.0 & 0.0 & 0.0 & 0.0 & 0.0 & 0.0 & 0.0 & 0.0 & 0.0 & 0.0 & 0.0 & 0.0 & 0.0 & 0.0 & 0.0 & 0.0\\\\0.0 & 0.0 & 0.0 & 0.0 & 0.0 & 0.0 & 0.0 & 0.0 & 0.0 & 0.0 & 0.0 & 0.0 & 0.0 & 0.0 & 0.0 & 0.0\\\\0.0 & 0.0 & 0.0 & 0.0 & 0.0 & 0.0 & 0.0 & 0.0 & 0.0 & 0.0 & 0.0 & 0.0 & 0.0 & 0.0 & 0.0 & 0.0\\end{array}\\right]$$"
      ],
      "text/plain": [
       "⎡0.0   0.2   0.28  0.28  0.2   0.04  -0.2   -0.52  -0.92  -1.4   -1.96  -2.6  \n",
       "⎢                                                                             \n",
       "⎢0.0  0.265  0.35  0.35  0.27  0.11  -0.13  -0.45  -0.85  -1.33  -1.89  -2.53 \n",
       "⎢                                                                             \n",
       "⎢0.0   0.0   0.0   0.0   0.0   0.0    0.0    0.0    0.0    0.0    0.0    0.0  \n",
       "⎢                                                                             \n",
       "⎢0.0   0.0   0.0   0.0   0.0   0.0    0.0    0.0    0.0    0.0    0.0    0.0  \n",
       "⎢                                                                             \n",
       "⎢0.0   0.0   0.0   0.0   0.0   0.0    0.0    0.0    0.0    0.0    0.0    0.0  \n",
       "⎢                                                                             \n",
       "⎣0.0   0.0   0.0   0.0   0.0   0.0    0.0    0.0    0.0    0.0    0.0    0.0  \n",
       "\n",
       " -3.32  -4.12   -5.0   -6.0⎤\n",
       "                           ⎥\n",
       " -3.25  -4.05  -4.935  0.0 ⎥\n",
       "                           ⎥\n",
       "  0.0    0.0    0.0    0.0 ⎥\n",
       "                           ⎥\n",
       "  0.0    0.0    0.0    0.0 ⎥\n",
       "                           ⎥\n",
       "  0.0    0.0    0.0    0.0 ⎥\n",
       "                           ⎥\n",
       "  0.0    0.0    0.0    0.0 ⎦"
      ]
     },
     "execution_count": 191,
     "metadata": {},
     "output_type": "execute_result"
    }
   ],
   "source": [
    "grid[1][1:dims[1]-1] = [(1-L)*grid[0][i] + 1/2*L*(grid[0][i+1] + grid[0][i-1]) + delta_t*du(delta_x*i, 0) for i in range(1, dims[1]-1)]\n",
    "grid[1][1:dims[1]-1] = grid[1][1:dims[1]-1] + delta_x**2*forcing_term*np.ones((1, dims[1]-2))\n",
    "sp.Matrix(np.round(grid, decimals=3))"
   ]
  },
  {
   "cell_type": "code",
   "execution_count": 192,
   "metadata": {},
   "outputs": [],
   "source": [
    "for j in range(2, dims[0]):\n",
    "    grid[j][1:dims[1]-1] = [2*grid[j-1][i]-grid[j-2][i]+L*(grid[j-1][i+1]-2*grid[j-1][i]+grid[j-1][i-1]) for i in range(1, dims[1]-1)]\n",
    "    grid[j][1:dims[1]-1] = grid[j][1:dims[1]-1] + delta_x**2*forcing_term*np.ones((1, dims[1]-2))\n"
   ]
  },
  {
   "cell_type": "code",
   "execution_count": 195,
   "metadata": {},
   "outputs": [
    {
     "data": {
      "text/latex": [
       "$$\\left[\\begin{array}{cccccccccccccccc}0.0 & 0.2 & 0.28 & 0.28 & 0.2 & 0.04 & -0.2 & -0.52 & -0.92 & -1.4 & -1.96 & -2.6 & -3.32 & -4.12 & -5.0 & -6.0\\\\0.0 & 0.265 & 0.35 & 0.35 & 0.27 & 0.11 & -0.13 & -0.45 & -0.85 & -1.33 & -1.89 & -2.53 & -3.25 & -4.05 & -4.935 & 0.0\\\\0.0 & 0.365 & 0.479 & 0.48 & 0.4 & 0.24 & 0.0 & -0.32 & -0.72 & -1.2 & -1.76 & -2.4 & -3.12 & -3.921 & -3.335 & 0.0\\\\0.0 & 0.482 & 0.659 & 0.67 & 0.59 & 0.43 & 0.19 & -0.13 & -0.53 & -1.01 & -1.57 & -2.21 & -2.93 & -3.366 & -0.968 & 0.0\\\\0.0 & 0.603 & 0.878 & 0.917 & 0.84 & 0.68 & 0.44 & 0.12 & -0.28 & -0.76 & -1.32 & -1.96 & -2.589 & -2.022 & 1.122 & 0.0\\\\0.0 & 0.722 & 1.118 & 1.215 & 1.149 & 0.99 & 0.75 & 0.43 & 0.03 & -0.45 & -1.01 & -1.627 & -1.869 & 0.046 & 2.225 & 0.0\\end{array}\\right]$$"
      ],
      "text/plain": [
       "⎡0.0   0.2   0.28   0.28    0.2   0.04  -0.2   -0.52  -0.92  -1.4   -1.96   -2\n",
       "⎢                                                                             \n",
       "⎢0.0  0.265  0.35   0.35   0.27   0.11  -0.13  -0.45  -0.85  -1.33  -1.89  -2.\n",
       "⎢                                                                             \n",
       "⎢0.0  0.365  0.479  0.48    0.4   0.24   0.0   -0.32  -0.72  -1.2   -1.76   -2\n",
       "⎢                                                                             \n",
       "⎢0.0  0.482  0.659  0.67   0.59   0.43  0.19   -0.13  -0.53  -1.01  -1.57  -2.\n",
       "⎢                                                                             \n",
       "⎢0.0  0.603  0.878  0.917  0.84   0.68  0.44   0.12   -0.28  -0.76  -1.32  -1.\n",
       "⎢                                                                             \n",
       "⎣0.0  0.722  1.118  1.215  1.149  0.99  0.75   0.43   0.03   -0.45  -1.01  -1.\n",
       "\n",
       ".6   -3.32   -4.12    -5.0   -6.0⎤\n",
       "                                 ⎥\n",
       "53   -3.25   -4.05   -4.935  0.0 ⎥\n",
       "                                 ⎥\n",
       ".4   -3.12   -3.921  -3.335  0.0 ⎥\n",
       "                                 ⎥\n",
       "21   -2.93   -3.366  -0.968  0.0 ⎥\n",
       "                                 ⎥\n",
       "96   -2.589  -2.022  1.122   0.0 ⎥\n",
       "                                 ⎥\n",
       "627  -1.869  0.046   2.225   0.0 ⎦"
      ]
     },
     "execution_count": 195,
     "metadata": {},
     "output_type": "execute_result"
    }
   ],
   "source": [
    "sp.Matrix(np.round(grid, decimals=3))"
   ]
  },
  {
   "cell_type": "code",
   "execution_count": 177,
   "metadata": {},
   "outputs": [
    {
     "data": {
      "text/plain": [
       "(6, 6)"
      ]
     },
     "execution_count": 177,
     "metadata": {},
     "output_type": "execute_result"
    }
   ],
   "source": [
    "dims"
   ]
  },
  {
   "cell_type": "code",
   "execution_count": null,
   "metadata": {},
   "outputs": [],
   "source": []
  }
 ],
 "metadata": {
  "kernelspec": {
   "display_name": "Python 3",
   "language": "python",
   "name": "python3"
  },
  "language_info": {
   "codemirror_mode": {
    "name": "ipython",
    "version": 3
   },
   "file_extension": ".py",
   "mimetype": "text/x-python",
   "name": "python",
   "nbconvert_exporter": "python",
   "pygments_lexer": "ipython3",
   "version": "3.6.5"
  }
 },
 "nbformat": 4,
 "nbformat_minor": 2
}
